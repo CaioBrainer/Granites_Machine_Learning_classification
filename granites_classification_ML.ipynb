{
 "cells": [
  {
   "cell_type": "markdown",
   "id": "8c93e251",
   "metadata": {},
   "source": [
    "# <center> CLASSIFICAÇÃO DE GRANITOS"
   ]
  },
  {
   "cell_type": "code",
   "execution_count": 1,
   "id": "22961b83",
   "metadata": {},
   "outputs": [],
   "source": [
    "#utilitários\n",
    "import pandas as pd\n",
    "import numpy as np\n",
    "import matplotlib.pyplot as plt\n",
    "import seaborn as sns\n",
    "import os\n",
    "\n",
    "#Pré processamento\n",
    "from sklearn.preprocessing import StandardScaler, OneHotEncoder, LabelEncoder\n",
    "from sklearn.compose import ColumnTransformer\n",
    "from sklearn.model_selection import StratifiedShuffleSplit\n",
    "from imblearn.over_sampling import SMOTE\n",
    "\n",
    "#Modelos\n",
    "from sklearn.svm import SVC\n",
    "from sklearn.tree import DecisionTreeClassifier\n",
    "from sklearn.ensemble import RandomForestClassifier\n",
    "from sklearn.ensemble import AdaBoostClassifier\n",
    "from sklearn.neighbors import KNeighborsClassifier\n",
    "\n",
    "#Bibliotecas para implementar redes neurais\n",
    "import tensorflow as tf\n",
    "from tensorflow import keras\n",
    "from keras.models import Sequential\n",
    "from keras.layers import Dense, Dropout\n",
    "\n",
    "#Avaliadores\n",
    "from sklearn.model_selection import cross_val_score\n",
    "from sklearn.model_selection import cross_val_predict\n",
    "from sklearn.metrics import roc_auc_score\n",
    "from sklearn.metrics import f1_score, precision_score, recall_score, classification_report, accuracy_score, confusion_matrix\n",
    "\n",
    "#Otimizadores\n",
    "from sklearn.model_selection import GridSearchCV\n",
    "\n",
    "#salvar e carregar modelos treinados\n",
    "import joblib"
   ]
  },
  {
   "cell_type": "code",
   "execution_count": 2,
   "id": "046ea092",
   "metadata": {},
   "outputs": [],
   "source": [
    "#funções usadas no notebook\n",
    "\n",
    "def treino_de_classificadores(classificadores, X_treino, y_treino):\n",
    "    for classificador in classificadores:\n",
    "        classificador.fit(X_treino, np.ravel(y_treino))\n",
    "        y_previsao = cross_val_predict(classificador, X_treino, np.ravel(y_treino), cv = 10)\n",
    "        precisao = precision_score(y_treino, y_previsao, average = 'macro')\n",
    "        revocacao = recall_score(y_treino, y_previsao, average = 'macro')\n",
    "        pontuacao_f1 = f1_score(y_treino, y_previsao, average = 'macro')\n",
    "        print(classificador.__class__.__name__)\n",
    "        print(f'precisão:{precisao}, revocação:{revocacao}, F1 score: {pontuacao_f1}')\n",
    "        \n",
    "def teste_de_modelos(modelos, X_teste, y_teste):\n",
    "    for modelo in modelos:\n",
    "        previsoes_teste = modelo.predict(X_teste)\n",
    "        print(modelo.__class__.__name__)\n",
    "        print(classification_report(y_teste, previsoes_teste))\n",
    "        print('_________________________________________________________________________________________________________')\n",
    "        \n",
    "def metricas_score(modelos, X_teste, y_teste):\n",
    "    metricas_modelo = {}\n",
    "    for indice, modelo in enumerate(modelos):\n",
    "        nome = modelo.__class__.__name__\n",
    "        previsao = modelo.predict(X_teste)\n",
    "        f1 = f1_score(y_teste, previsao, average='macro')\n",
    "        precisao = precision_score(y_teste, previsao, average='macro')\n",
    "        acuracia = accuracy_score(y_teste, previsao)\n",
    "        metricas_modelo[indice] = nome, f1, acuracia, precisao\n",
    "        \n",
    "    return pd.DataFrame.from_dict(metricas_modelo, orient='index', columns=['Modelo', 'F1', 'Acurácia', 'Precisão'])\n",
    "\n",
    "#métricas para as redes neurais artificiais precisam de uma pequena adaptação devido a previsão multirótulo gerada\n",
    "\n",
    "def metricas_score_ann(modelos, X_teste, y_teste):\n",
    "    metricas_modelo = {}\n",
    "    for indice, modelo in enumerate(modelos):\n",
    "        nome = modelo.__class__.__name__\n",
    "        previsao = modelo.predict(X_teste)\n",
    "        f1 = f1_score(y_teste, previsao.round().argmax(axis=1), average='macro')\n",
    "        precisao = precision_score(y_teste, previsao.round().argmax(axis=1), average='macro')\n",
    "        acuracia = accuracy_score(y_teste, previsao.round().argmax(axis=1))\n",
    "        metricas_modelo[indice] = nome, f1, acuracia, precisao\n",
    "        \n",
    "    return pd.DataFrame.from_dict(metricas_modelo, orient='index', columns=['Modelo', 'F1', 'Acurácia', 'Precisão'])\n",
    "\n",
    "#Função para gerar os pesos das classes para as redes neurais\n",
    "\n",
    "def pesos_classe(contagem_por_classe, contagem_total):\n",
    "    \n",
    "    c = 0\n",
    "    pesos_classes = {}\n",
    "    \n",
    "    for classe in contagem_por_classe:\n",
    "        peso = contagem_total/(len(contagem_por_classe)*classe)\n",
    "        pesos_classes[c] = peso\n",
    "        c += 1\n",
    "    \n",
    "    return pesos_classes "
   ]
  },
  {
   "cell_type": "code",
   "execution_count": 3,
   "id": "568a446b",
   "metadata": {},
   "outputs": [],
   "source": [
    "#para rodar o tensorflow apenas na CPU (Minha GPU tá com problemas)\n",
    "\n",
    "os.environ['CUDA_VISIBLE_DEVICES'] = '-1'"
   ]
  },
  {
   "cell_type": "markdown",
   "id": "61a55182",
   "metadata": {},
   "source": [
    "## <center> CARREGANDO OS DADOS"
   ]
  },
  {
   "cell_type": "code",
   "execution_count": 4,
   "id": "3449f90d",
   "metadata": {
    "scrolled": true
   },
   "outputs": [
    {
     "data": {
      "text/html": [
       "<div>\n",
       "<style scoped>\n",
       "    .dataframe tbody tr th:only-of-type {\n",
       "        vertical-align: middle;\n",
       "    }\n",
       "\n",
       "    .dataframe tbody tr th {\n",
       "        vertical-align: top;\n",
       "    }\n",
       "\n",
       "    .dataframe thead th {\n",
       "        text-align: right;\n",
       "    }\n",
       "</style>\n",
       "<table border=\"1\" class=\"dataframe\">\n",
       "  <thead>\n",
       "    <tr style=\"text-align: right;\">\n",
       "      <th></th>\n",
       "      <th>SiO2</th>\n",
       "      <th>TiO2</th>\n",
       "      <th>Al2O3</th>\n",
       "      <th>FeOt</th>\n",
       "      <th>CaO</th>\n",
       "      <th>MgO</th>\n",
       "      <th>MnO</th>\n",
       "      <th>K2O</th>\n",
       "      <th>Na2O</th>\n",
       "      <th>A/NK</th>\n",
       "      <th>A/CNK</th>\n",
       "      <th>Fe#</th>\n",
       "      <th>K2O/Na2O</th>\n",
       "      <th>Na2O+K2O</th>\n",
       "      <th>Q</th>\n",
       "      <th>An</th>\n",
       "      <th>Ab</th>\n",
       "      <th>Or</th>\n",
       "      <th>Group</th>\n",
       "    </tr>\n",
       "  </thead>\n",
       "  <tbody>\n",
       "    <tr>\n",
       "      <th>0</th>\n",
       "      <td>65.40690</td>\n",
       "      <td>0.827037</td>\n",
       "      <td>17.08490</td>\n",
       "      <td>4.914410</td>\n",
       "      <td>1.813515</td>\n",
       "      <td>1.796028</td>\n",
       "      <td>0.077149</td>\n",
       "      <td>5.131949</td>\n",
       "      <td>2.660096</td>\n",
       "      <td>1.719984</td>\n",
       "      <td>1.291329</td>\n",
       "      <td>0.732353</td>\n",
       "      <td>1.929235</td>\n",
       "      <td>7.792045</td>\n",
       "      <td>24.548928</td>\n",
       "      <td>7.115483</td>\n",
       "      <td>22.508991</td>\n",
       "      <td>30.328349</td>\n",
       "      <td>1- CPG &amp; MPG</td>\n",
       "    </tr>\n",
       "    <tr>\n",
       "      <th>1</th>\n",
       "      <td>69.64232</td>\n",
       "      <td>0.708766</td>\n",
       "      <td>14.88713</td>\n",
       "      <td>4.186309</td>\n",
       "      <td>1.436880</td>\n",
       "      <td>1.629346</td>\n",
       "      <td>0.053972</td>\n",
       "      <td>5.018386</td>\n",
       "      <td>2.215911</td>\n",
       "      <td>1.639651</td>\n",
       "      <td>1.273279</td>\n",
       "      <td>0.719834</td>\n",
       "      <td>2.264706</td>\n",
       "      <td>7.234297</td>\n",
       "      <td>32.669551</td>\n",
       "      <td>5.684928</td>\n",
       "      <td>18.750421</td>\n",
       "      <td>29.657224</td>\n",
       "      <td>1- CPG &amp; MPG</td>\n",
       "    </tr>\n",
       "    <tr>\n",
       "      <th>2</th>\n",
       "      <td>70.61077</td>\n",
       "      <td>0.570585</td>\n",
       "      <td>15.28393</td>\n",
       "      <td>2.822104</td>\n",
       "      <td>1.204323</td>\n",
       "      <td>1.330627</td>\n",
       "      <td>0.053181</td>\n",
       "      <td>5.597277</td>\n",
       "      <td>2.329983</td>\n",
       "      <td>1.544776</td>\n",
       "      <td>1.264847</td>\n",
       "      <td>0.679578</td>\n",
       "      <td>2.402282</td>\n",
       "      <td>7.927260</td>\n",
       "      <td>31.635693</td>\n",
       "      <td>4.686449</td>\n",
       "      <td>19.715667</td>\n",
       "      <td>33.078304</td>\n",
       "      <td>1- CPG &amp; MPG</td>\n",
       "    </tr>\n",
       "    <tr>\n",
       "      <th>3</th>\n",
       "      <td>70.61724</td>\n",
       "      <td>0.477503</td>\n",
       "      <td>15.70859</td>\n",
       "      <td>2.508109</td>\n",
       "      <td>1.311569</td>\n",
       "      <td>0.977942</td>\n",
       "      <td>0.040661</td>\n",
       "      <td>5.280680</td>\n",
       "      <td>2.877528</td>\n",
       "      <td>1.502937</td>\n",
       "      <td>1.223734</td>\n",
       "      <td>0.719470</td>\n",
       "      <td>1.835145</td>\n",
       "      <td>8.158208</td>\n",
       "      <td>29.973384</td>\n",
       "      <td>5.199155</td>\n",
       "      <td>24.348840</td>\n",
       "      <td>31.207307</td>\n",
       "      <td>1- CPG &amp; MPG</td>\n",
       "    </tr>\n",
       "    <tr>\n",
       "      <th>4</th>\n",
       "      <td>70.70878</td>\n",
       "      <td>0.532211</td>\n",
       "      <td>15.28031</td>\n",
       "      <td>2.535746</td>\n",
       "      <td>1.235924</td>\n",
       "      <td>1.207156</td>\n",
       "      <td>0.060856</td>\n",
       "      <td>5.569955</td>\n",
       "      <td>2.642243</td>\n",
       "      <td>1.472364</td>\n",
       "      <td>1.210301</td>\n",
       "      <td>0.677481</td>\n",
       "      <td>2.108040</td>\n",
       "      <td>8.212198</td>\n",
       "      <td>30.221927</td>\n",
       "      <td>4.649750</td>\n",
       "      <td>22.357924</td>\n",
       "      <td>32.916839</td>\n",
       "      <td>1- CPG &amp; MPG</td>\n",
       "    </tr>\n",
       "  </tbody>\n",
       "</table>\n",
       "</div>"
      ],
      "text/plain": [
       "       SiO2      TiO2     Al2O3      FeOt       CaO       MgO       MnO  \\\n",
       "0  65.40690  0.827037  17.08490  4.914410  1.813515  1.796028  0.077149   \n",
       "1  69.64232  0.708766  14.88713  4.186309  1.436880  1.629346  0.053972   \n",
       "2  70.61077  0.570585  15.28393  2.822104  1.204323  1.330627  0.053181   \n",
       "3  70.61724  0.477503  15.70859  2.508109  1.311569  0.977942  0.040661   \n",
       "4  70.70878  0.532211  15.28031  2.535746  1.235924  1.207156  0.060856   \n",
       "\n",
       "        K2O      Na2O      A/NK     A/CNK       Fe#  K2O/Na2O  Na2O+K2O  \\\n",
       "0  5.131949  2.660096  1.719984  1.291329  0.732353  1.929235  7.792045   \n",
       "1  5.018386  2.215911  1.639651  1.273279  0.719834  2.264706  7.234297   \n",
       "2  5.597277  2.329983  1.544776  1.264847  0.679578  2.402282  7.927260   \n",
       "3  5.280680  2.877528  1.502937  1.223734  0.719470  1.835145  8.158208   \n",
       "4  5.569955  2.642243  1.472364  1.210301  0.677481  2.108040  8.212198   \n",
       "\n",
       "           Q        An         Ab         Or         Group  \n",
       "0  24.548928  7.115483  22.508991  30.328349  1- CPG & MPG  \n",
       "1  32.669551  5.684928  18.750421  29.657224  1- CPG & MPG  \n",
       "2  31.635693  4.686449  19.715667  33.078304  1- CPG & MPG  \n",
       "3  29.973384  5.199155  24.348840  31.207307  1- CPG & MPG  \n",
       "4  30.221927  4.649750  22.357924  32.916839  1- CPG & MPG  "
      ]
     },
     "execution_count": 4,
     "metadata": {},
     "output_type": "execute_result"
    }
   ],
   "source": [
    "#Carregando o database tratado\n",
    "database = pd.read_csv('granites_dnn/Granites_Machine_Learning_classification/dataset/granitos_db_att.csv', sep = '\\t', index_col = 0)\n",
    "database.head()"
   ]
  },
  {
   "cell_type": "markdown",
   "id": "30ee9c1a",
   "metadata": {},
   "source": [
    "### <center> PRE PROCESSAMENTO"
   ]
  },
  {
   "cell_type": "code",
   "execution_count": 5,
   "id": "3a116d9d",
   "metadata": {},
   "outputs": [
    {
     "data": {
      "text/plain": [
       "SiO2        0\n",
       "TiO2        0\n",
       "Al2O3       0\n",
       "FeOt        0\n",
       "CaO         0\n",
       "MgO         0\n",
       "MnO         0\n",
       "K2O         0\n",
       "Na2O        0\n",
       "A/NK        0\n",
       "A/CNK       0\n",
       "Fe#         0\n",
       "K2O/Na2O    0\n",
       "Na2O+K2O    0\n",
       "Q           0\n",
       "An          0\n",
       "Ab          0\n",
       "Or          0\n",
       "Group       0\n",
       "dtype: int64"
      ]
     },
     "execution_count": 5,
     "metadata": {},
     "output_type": "execute_result"
    }
   ],
   "source": [
    "#verificando dados ausentes no database\n",
    "\n",
    "database.isna().sum()"
   ]
  },
  {
   "cell_type": "code",
   "execution_count": 6,
   "id": "443120b1",
   "metadata": {},
   "outputs": [],
   "source": [
    "#Removendo colunas com dados ausentes\n",
    "\n",
    "database = database.dropna(subset=['MnO', 'TiO2','FeOt', 'MgO', 'Na2O', 'CaO', 'Al2O3'])\n",
    "\n",
    "\n",
    "#Separando variáveis preditoras e variável alvo\n",
    "\n",
    "database_preditores = database[['SiO2', 'TiO2', 'Al2O3','FeOt', 'MnO', 'MgO', 'CaO', \n",
    "                                'K2O', 'Na2O']]\n",
    "\n",
    "database_alvo = database[['Group']]"
   ]
  },
  {
   "cell_type": "code",
   "execution_count": 7,
   "id": "77508a45",
   "metadata": {},
   "outputs": [],
   "source": [
    "#Preparando a separação dos dados de treino e teste\n",
    "\n",
    "split = StratifiedShuffleSplit(n_splits = 1, test_size = 0.2, random_state = 42)\n",
    "\n",
    "#Realizando um amostragem estratificada\n",
    "\n",
    "for train_index, test_index in split.split(database_preditores, database_alvo):\n",
    "    X_treino, X_teste = database_preditores.iloc[train_index], database_preditores.iloc[test_index]\n",
    "    y_treino, y_teste = database_alvo.iloc[train_index], database_alvo.iloc[test_index]"
   ]
  },
  {
   "cell_type": "code",
   "execution_count": 8,
   "id": "d6ce3d7f",
   "metadata": {},
   "outputs": [
    {
     "data": {
      "text/plain": [
       "((2548, 9), (638, 9), (2548, 1), (638, 1))"
      ]
     },
     "execution_count": 8,
     "metadata": {},
     "output_type": "execute_result"
    }
   ],
   "source": [
    "X_treino.shape, X_teste.shape, y_treino.shape, y_teste.shape"
   ]
  },
  {
   "cell_type": "code",
   "execution_count": 9,
   "id": "677bdd2a",
   "metadata": {},
   "outputs": [],
   "source": [
    "#Realizando balanceamento de classes com over-sampling (Sobreamostragem) utilizando SMOTE\n",
    "#SMOTE -> Synthetic Minority Over-sampling Technique\n",
    "\n",
    "SMOTE_ = SMOTE(random_state=42)\n",
    "X_treino_smt, y_treino_smt = SMOTE_.fit_resample(X_treino, y_treino)"
   ]
  },
  {
   "cell_type": "code",
   "execution_count": 10,
   "id": "f2fb6340",
   "metadata": {},
   "outputs": [],
   "source": [
    "#Escalonando as variáveis numéricas\n",
    "\n",
    "atributos_numericos = ['SiO2', 'TiO2', 'Al2O3','FeOt', 'MnO', 'MgO', 'CaO', \n",
    "                                'K2O', 'Na2O']\n",
    "\n",
    "tratamento_pipeline = ColumnTransformer([\n",
    "    (\"atributos_numéricos\", StandardScaler(), atributos_numericos),\n",
    "])\n",
    "\n",
    "X_treino_smt =  pd.DataFrame(tratamento_pipeline.fit_transform(X_treino_smt))\n",
    "X_treino_std = pd.DataFrame(tratamento_pipeline.fit_transform(X_treino))"
   ]
  },
  {
   "cell_type": "markdown",
   "id": "f338762b",
   "metadata": {},
   "source": [
    "# <center> TESTANDO OS MELHORES MODELOS"
   ]
  },
  {
   "cell_type": "code",
   "execution_count": 11,
   "id": "e4a8ef04",
   "metadata": {},
   "outputs": [],
   "source": [
    "#Melhores modelos pós grid search (omiti o grid search aqui devido ao grande tempo de execução)\n",
    "\n",
    "best_rnd_clf = RandomForestClassifier(bootstrap=False,max_features=3, criterion='gini', n_estimators=700)\n",
    "best_rnd_clf_wgt = RandomForestClassifier(bootstrap=False,max_features=3, criterion='gini', n_estimators=700, class_weight='balanced_subsample')\n",
    "best_svm_clf = SVC(kernel='rbf' ,C=300, gamma=1)\n",
    "best_svm_clf_wgt = SVC(kernel='rbf' ,C=300, gamma=1, class_weight='balanced')\n",
    "best_ada_clf = AdaBoostClassifier(DecisionTreeClassifier(max_depth=10) ,algorithm='SAMME', n_estimators=100, learning_rate=0.75)\n",
    "best_ada_clf_wgt = AdaBoostClassifier(DecisionTreeClassifier(max_depth=10, class_weight='balanced') ,algorithm='SAMME', n_estimators=100, learning_rate=0.75)\n",
    "\n",
    "\n",
    "modelos = [best_rnd_clf, best_svm_clf, best_ada_clf,] #best_gb_clf]\n",
    "modelos_wgt = [best_rnd_clf_wgt, best_svm_clf_wgt, best_ada_clf_wgt ]"
   ]
  },
  {
   "cell_type": "code",
   "execution_count": 12,
   "id": "eb8ed8d0",
   "metadata": {
    "scrolled": false
   },
   "outputs": [
    {
     "name": "stdout",
     "output_type": "stream",
     "text": [
      "RandomForestClassifier\n",
      "precisão:0.9372064296925714, revocação:0.9375857338820301, F1 score: 0.9372846770425557\n",
      "SVC\n",
      "precisão:0.9403448638696319, revocação:0.9396433470507545, F1 score: 0.9397359259824634\n",
      "AdaBoostClassifier\n",
      "precisão:0.9425713030302555, revocação:0.9428440786465478, F1 score: 0.9426531052047403\n"
     ]
    }
   ],
   "source": [
    "#Treinando classificadores com over sampling\n",
    "\n",
    "treino_de_classificadores(modelos, X_treino_smt, y_treino_smt)"
   ]
  },
  {
   "cell_type": "code",
   "execution_count": 13,
   "id": "30d3cec4",
   "metadata": {},
   "outputs": [
    {
     "name": "stdout",
     "output_type": "stream",
     "text": [
      "RandomForestClassifier\n",
      "precisão:0.8847178205986616, revocação:0.8772612985613689, F1 score: 0.880779835925329\n",
      "SVC\n",
      "precisão:0.8655820509613843, revocação:0.8392117507459922, F1 score: 0.8506369593393223\n",
      "AdaBoostClassifier\n",
      "precisão:0.8951836928788142, revocação:0.8879904561073655, F1 score: 0.8913434100225032\n"
     ]
    }
   ],
   "source": [
    "#Treinando classificadores com pesos para as classes\n",
    "\n",
    "treino_de_classificadores(modelos_wgt, X_treino_std, y_treino)"
   ]
  },
  {
   "cell_type": "code",
   "execution_count": 14,
   "id": "9d4672a1",
   "metadata": {},
   "outputs": [],
   "source": [
    "#Estabelecendo a estrutura das redes neurais\n",
    "rede_neural = keras.models.Sequential()\n",
    "rede_neural.add(keras.layers.Dense(units=100, activation=\"relu\"))\n",
    "rede_neural.add(keras.layers.Dense(units=100, activation=\"relu\"))\n",
    "rede_neural.add(keras.layers.Dense(units=100, activation=\"relu\"))\n",
    "rede_neural.add(keras.layers.Dense(6, activation=\"softmax\"))"
   ]
  },
  {
   "cell_type": "code",
   "execution_count": 15,
   "id": "ce674dca",
   "metadata": {},
   "outputs": [],
   "source": [
    "rede_neural_smt = keras.models.Sequential()\n",
    "rede_neural_smt.add(keras.layers.Dense(units=100, activation=\"relu\"))\n",
    "rede_neural_smt.add(keras.layers.Dense(units=100, activation=\"relu\"))\n",
    "rede_neural_smt.add(keras.layers.Dense(units=100, activation=\"relu\"))\n",
    "rede_neural_smt.add(keras.layers.Dense(6, activation=\"softmax\"))"
   ]
  },
  {
   "cell_type": "code",
   "execution_count": 16,
   "id": "b2116918",
   "metadata": {},
   "outputs": [],
   "source": [
    "#Compilando as redes e modificando o padrão de aprendizado do otimizador\n",
    "\n",
    "\n",
    "otimizador = keras.optimizers.SGD(learning_rate = 0.05)\n",
    "\n",
    "rede_neural.compile(loss=\"sparse_categorical_crossentropy\",\n",
    "                    optimizer=otimizador,\n",
    "                    metrics=[\"accuracy\"])\n",
    "\n",
    "rede_neural_smt.compile(loss=\"sparse_categorical_crossentropy\",\n",
    "                    optimizer=otimizador,\n",
    "                    metrics=[\"accuracy\"])"
   ]
  },
  {
   "cell_type": "code",
   "execution_count": 17,
   "id": "db26bb23",
   "metadata": {},
   "outputs": [],
   "source": [
    "#Calculando pesos balanceados para as classes, para utilizar na rede neural\n",
    "\n",
    "contagem_por_classe = y_treino.value_counts().sort_index().to_list()\n",
    "contagem_total = y_treino.value_counts().sum()\n",
    "pesos = pesos_classe(contagem_por_classe, contagem_total)"
   ]
  },
  {
   "cell_type": "code",
   "execution_count": 18,
   "id": "aa0483ea",
   "metadata": {},
   "outputs": [
    {
     "data": {
      "text/plain": [
       "{0: 0.8376068376068376,\n",
       " 1: 1.9480122324159022,\n",
       " 2: 2.2350877192982455,\n",
       " 3: 0.582533150434385,\n",
       " 4: 0.7693236714975845,\n",
       " 5: 1.206439393939394}"
      ]
     },
     "execution_count": 18,
     "metadata": {},
     "output_type": "execute_result"
    }
   ],
   "source": [
    "pesos"
   ]
  },
  {
   "cell_type": "code",
   "execution_count": 19,
   "id": "20acb1bd",
   "metadata": {},
   "outputs": [],
   "source": [
    "encoder = LabelEncoder()\n",
    "y_treino_one_hot = encoder.fit_transform(np.ravel(y_treino))\n",
    "y_treino_one_hot_smt = encoder.fit_transform(np.ravel(y_treino_smt))"
   ]
  },
  {
   "cell_type": "code",
   "execution_count": 20,
   "id": "7ab3b13e",
   "metadata": {},
   "outputs": [],
   "source": [
    "modelo_com_pesos=rede_neural.fit(X_treino_std, y_treino_one_hot, epochs=1000, class_weight=pesos, verbose=0, \n",
    "                                   callbacks=[keras.callbacks.EarlyStopping(patience=10,  monitor=\"accuracy\")])"
   ]
  },
  {
   "cell_type": "code",
   "execution_count": 21,
   "id": "2cf06994",
   "metadata": {},
   "outputs": [],
   "source": [
    "modelo_com_oversampling=rede_neural_smt.fit(X_treino_smt, y_treino_one_hot_smt, epochs=1000, verbose=0, callbacks=[keras.callbacks.EarlyStopping(patience=10,  monitor=\"accuracy\")])"
   ]
  },
  {
   "cell_type": "code",
   "execution_count": 22,
   "id": "18b682f2",
   "metadata": {},
   "outputs": [
    {
     "data": {
      "image/png": "[encoded data removed]",
      "text/plain": [
       "<Figure size 576x360 with 1 Axes>"
      ]
     },
     "metadata": {
      "needs_background": "light"
     },
     "output_type": "display_data"
    }
   ],
   "source": [
    "pd.DataFrame(modelo_com_pesos.history).plot(figsize=(8,5))\n",
    "plt.grid(True)\n",
    "plt.gca().set_ylim(0,1)\n",
    "plt.show()"
   ]
  },
  {
   "cell_type": "code",
   "execution_count": 23,
   "id": "77dfb8d3",
   "metadata": {},
   "outputs": [
    {
     "data": {
      "image/png": "[encoded data removed]",
      "text/plain": [
       "<Figure size 576x360 with 1 Axes>"
      ]
     },
     "metadata": {
      "needs_background": "light"
     },
     "output_type": "display_data"
    }
   ],
   "source": [
    "pd.DataFrame(modelo_com_oversampling.history).plot(figsize=(8,5))\n",
    "plt.grid(True)\n",
    "plt.gca().set_ylim(0,1)\n",
    "plt.show()"
   ]
  },
  {
   "cell_type": "code",
   "execution_count": 24,
   "id": "3173158d",
   "metadata": {},
   "outputs": [],
   "source": [
    "#TRANSFORMANDO OS DADOS DE TESTE\n",
    "escaler = StandardScaler() \n",
    "\n",
    "X_teste_std = escaler.fit_transform(X_teste)\n",
    "y_teste_ann = encoder.fit_transform(np.ravel(y_teste))\n"
   ]
  },
  {
   "cell_type": "code",
   "execution_count": 25,
   "id": "3750ac73",
   "metadata": {},
   "outputs": [],
   "source": [
    "metricas_modelos_com_peso = metricas_score(modelos_wgt, X_teste_std, y_teste)\n",
    "metricas_modelos_com_smote = metricas_score(modelos, X_teste_std, y_teste)"
   ]
  },
  {
   "cell_type": "code",
   "execution_count": 26,
   "id": "f54c92bd",
   "metadata": {},
   "outputs": [
    {
     "name": "stdout",
     "output_type": "stream",
     "text": [
      "20/20 [==============================] - 0s 1ms/step\n",
      "20/20 [==============================] - 0s 1ms/step\n"
     ]
    }
   ],
   "source": [
    "modelos_ann = [rede_neural, rede_neural_smt]\n",
    "metricas_modelos_ann = metricas_score_ann(modelos_ann, X_teste_std, y_teste_ann)"
   ]
  },
  {
   "cell_type": "code",
   "execution_count": 28,
   "id": "5f43c992",
   "metadata": {},
   "outputs": [],
   "source": [
    "scores_modelos = pd.concat([metricas_modelos_com_peso, metricas_modelos_com_smote, metricas_modelos_ann], axis=0).reset_index()"
   ]
  },
  {
   "cell_type": "code",
   "execution_count": 29,
   "id": "945c4616",
   "metadata": {},
   "outputs": [],
   "source": [
    "scores_modelos = scores_modelos.drop(columns=['index'])\n",
    "scores_modelos['Grupo'] = ['weight', 'weight', 'weight', 'smote', 'smote', 'smote', 'weight', 'smote']"
   ]
  },
  {
   "cell_type": "code",
   "execution_count": 30,
   "id": "fd7fe170",
   "metadata": {},
   "outputs": [
    {
     "data": {
      "text/html": [
       "<div>\n",
       "<style scoped>\n",
       "    .dataframe tbody tr th:only-of-type {\n",
       "        vertical-align: middle;\n",
       "    }\n",
       "\n",
       "    .dataframe tbody tr th {\n",
       "        vertical-align: top;\n",
       "    }\n",
       "\n",
       "    .dataframe thead th {\n",
       "        text-align: right;\n",
       "    }\n",
       "</style>\n",
       "<table border=\"1\" class=\"dataframe\">\n",
       "  <thead>\n",
       "    <tr style=\"text-align: right;\">\n",
       "      <th></th>\n",
       "      <th>Modelo</th>\n",
       "      <th>F1</th>\n",
       "      <th>Acurácia</th>\n",
       "      <th>Precisão</th>\n",
       "      <th>Grupo</th>\n",
       "    </tr>\n",
       "  </thead>\n",
       "  <tbody>\n",
       "    <tr>\n",
       "      <th>0</th>\n",
       "      <td>RandomForestClassifier</td>\n",
       "      <td>0.880838</td>\n",
       "      <td>0.866771</td>\n",
       "      <td>0.879073</td>\n",
       "      <td>weight</td>\n",
       "    </tr>\n",
       "    <tr>\n",
       "      <th>1</th>\n",
       "      <td>SVC</td>\n",
       "      <td>0.854563</td>\n",
       "      <td>0.846395</td>\n",
       "      <td>0.871532</td>\n",
       "      <td>weight</td>\n",
       "    </tr>\n",
       "    <tr>\n",
       "      <th>2</th>\n",
       "      <td>AdaBoostClassifier</td>\n",
       "      <td>0.888642</td>\n",
       "      <td>0.876176</td>\n",
       "      <td>0.894211</td>\n",
       "      <td>weight</td>\n",
       "    </tr>\n",
       "    <tr>\n",
       "      <th>3</th>\n",
       "      <td>RandomForestClassifier</td>\n",
       "      <td>0.815983</td>\n",
       "      <td>0.821317</td>\n",
       "      <td>0.803133</td>\n",
       "      <td>smote</td>\n",
       "    </tr>\n",
       "    <tr>\n",
       "      <th>4</th>\n",
       "      <td>SVC</td>\n",
       "      <td>0.826441</td>\n",
       "      <td>0.822884</td>\n",
       "      <td>0.827127</td>\n",
       "      <td>smote</td>\n",
       "    </tr>\n",
       "    <tr>\n",
       "      <th>5</th>\n",
       "      <td>AdaBoostClassifier</td>\n",
       "      <td>0.818853</td>\n",
       "      <td>0.826019</td>\n",
       "      <td>0.806698</td>\n",
       "      <td>smote</td>\n",
       "    </tr>\n",
       "    <tr>\n",
       "      <th>6</th>\n",
       "      <td>Sequential</td>\n",
       "      <td>0.870649</td>\n",
       "      <td>0.865204</td>\n",
       "      <td>0.868505</td>\n",
       "      <td>weight</td>\n",
       "    </tr>\n",
       "    <tr>\n",
       "      <th>7</th>\n",
       "      <td>Sequential</td>\n",
       "      <td>0.809230</td>\n",
       "      <td>0.833856</td>\n",
       "      <td>0.816853</td>\n",
       "      <td>smote</td>\n",
       "    </tr>\n",
       "  </tbody>\n",
       "</table>\n",
       "</div>"
      ],
      "text/plain": [
       "                   Modelo        F1  Acurácia  Precisão   Grupo\n",
       "0  RandomForestClassifier  0.880838  0.866771  0.879073  weight\n",
       "1                     SVC  0.854563  0.846395  0.871532  weight\n",
       "2      AdaBoostClassifier  0.888642  0.876176  0.894211  weight\n",
       "3  RandomForestClassifier  0.815983  0.821317  0.803133   smote\n",
       "4                     SVC  0.826441  0.822884  0.827127   smote\n",
       "5      AdaBoostClassifier  0.818853  0.826019  0.806698   smote\n",
       "6              Sequential  0.870649  0.865204  0.868505  weight\n",
       "7              Sequential  0.809230  0.833856  0.816853   smote"
      ]
     },
     "execution_count": 30,
     "metadata": {},
     "output_type": "execute_result"
    }
   ],
   "source": [
    "scores_modelos"
   ]
  },
  {
   "cell_type": "code",
   "execution_count": 31,
   "id": "6a3dc140",
   "metadata": {},
   "outputs": [
    {
     "data": {
      "image/png": "[encoded data removed]",
      "text/plain": [
       "<Figure size 504x504 with 1 Axes>"
      ]
     },
     "metadata": {
      "needs_background": "light"
     },
     "output_type": "display_data"
    }
   ],
   "source": [
    "plt.figure(figsize = (7, 7))\n",
    "plt.ylim(0.5, 1)\n",
    "ax = sns.barplot(x=scores_modelos['Modelo'], y=scores_modelos['Acurácia'], hue=scores_modelos['Grupo'], data=scores_modelos)\n",
    "for container in ax.containers:\n",
    "    ax.bar_label(container)\n",
    "#plt.savefig('Scores_modelos.pdf', dpi=600, format='pdf')"
   ]
  }
 ],
 "metadata": {
  "kernelspec": {
   "display_name": "Python 3 (ipykernel)",
   "language": "python",
   "name": "python3"
  },
  "language_info": {
   "codemirror_mode": {
    "name": "ipython",
    "version": 3
   },
   "file_extension": ".py",
   "mimetype": "text/x-python",
   "name": "python",
   "nbconvert_exporter": "python",
   "pygments_lexer": "ipython3",
   "version": "3.9.7"
  }
 },
 "nbformat": 4,
 "nbformat_minor": 5
}
