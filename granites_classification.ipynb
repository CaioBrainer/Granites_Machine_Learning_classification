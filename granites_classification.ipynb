{
 "cells": [
  {
   "cell_type": "markdown",
   "id": "8c93e251",
   "metadata": {},
   "source": [
    "# <center> CLASSIFICAÇÃO DE GRANITOS"
   ]
  },
  {
   "cell_type": "code",
   "execution_count": 61,
   "id": "22961b83",
   "metadata": {},
   "outputs": [],
   "source": [
    "#utilitários\n",
    "import pandas as pd\n",
    "import numpy as np\n",
    "import matplotlib.pyplot as plt\n",
    "import seaborn as sns\n",
    "import os\n",
    "\n",
    "#Pré processamento\n",
    "from sklearn.preprocessing import StandardScaler,LabelEncoder\n",
    "from sklearn.model_selection import train_test_split\n",
    "\n",
    "#Modelos\n",
    "from sklearn.svm import SVC\n",
    "from sklearn.tree import DecisionTreeClassifier\n",
    "from sklearn.ensemble import RandomForestClassifier\n",
    "from sklearn.ensemble import AdaBoostClassifier\n",
    "import xgboost as xgb\n",
    "\n",
    "\n",
    "#Avaliadores\n",
    "from sklearn.metrics import f1_score, precision_score, recall_score, classification_report, accuracy_score, confusion_matrix, ConfusionMatrixDisplay\n",
    "from sklearn.utils import compute_sample_weight\n",
    "\n",
    "#salvar e carregar modelos treinados\n",
    "import joblib\n",
    "\n",
    "#filtrando alertas\n",
    "import warnings\n",
    "warnings.filterwarnings(\"ignore\")\n",
    "xgb.set_config(verbosity=0)\n",
    "\n",
    "#parâmetros para o matplotlib\n",
    "plt.rcParams.update({'font.size': 14})"
   ]
  },
  {
   "cell_type": "code",
   "execution_count": 35,
   "id": "046ea092",
   "metadata": {},
   "outputs": [],
   "source": [
    "#funções usadas no notebook\n",
    "\n",
    "def treino_de_classificadores(classificadores, X_treino, y_treino, pesos):\n",
    "    for classificador in classificadores:\n",
    "        classificador.fit(X_treino, np.ravel(y_treino), sample_weight=pesos)\n",
    "        y_previsao = cross_val_predict(classificador, X_treino, y_treino, cv=10)\n",
    "        precisao = precision_score(y_treino, y_previsao, average = 'macro')\n",
    "        revocacao = recall_score(y_treino, y_previsao, average = 'macro')\n",
    "        pontuacao_f1 = f1_score(y_treino, y_previsao, average = 'macro')\n",
    "        print(classificador.__class__.__name__)\n",
    "        print(f'precisão:{precisao}, revocação:{revocacao}, F1 score: {pontuacao_f1}')\n",
    "        \n",
    "def teste_de_modelos(modelos, X_teste, y_teste):\n",
    "    for modelo in modelos:\n",
    "        previsoes_teste = modelo.predict(X_teste)\n",
    "        print(modelo.__class__.__name__)\n",
    "        print(classification_report(y_teste, previsoes_teste))\n",
    "        print('_________________________________________________________________________________________________________')\n",
    "        \n",
    "def metricas_score(modelos, X_teste, y_teste):\n",
    "    metricas_modelo = {}\n",
    "    for indice, modelo in enumerate(modelos):\n",
    "        nome = modelo.__class__.__name__\n",
    "        previsao = modelo.predict(X_teste)\n",
    "        f1 = f1_score(y_teste, previsao, average='macro')\n",
    "        precisao = precision_score(y_teste, previsao, average='macro')\n",
    "        acuracia = accuracy_score(y_teste, previsao)\n",
    "        metricas_modelo[indice] = nome, f1, acuracia, precisao\n",
    "        \n",
    "    return pd.DataFrame.from_dict(metricas_modelo, orient='index', columns=['Modelo', 'F1', 'Acurácia', 'Precisão'])"
   ]
  },
  {
   "cell_type": "markdown",
   "id": "61a55182",
   "metadata": {},
   "source": [
    "## <center> CARREGANDO OS DADOS"
   ]
  },
  {
   "cell_type": "code",
   "execution_count": 3,
   "id": "3449f90d",
   "metadata": {
    "scrolled": true
   },
   "outputs": [],
   "source": [
    "#Carregando o database tratado\n",
    "database = pd.read_csv('dataset/granitos_db_att.csv', sep = '\\t', index_col = 0)"
   ]
  },
  {
   "cell_type": "code",
   "execution_count": 4,
   "id": "3a2114ce",
   "metadata": {},
   "outputs": [
    {
     "data": {
      "text/plain": [
       "(3139, 10)"
      ]
     },
     "execution_count": 4,
     "metadata": {},
     "output_type": "execute_result"
    }
   ],
   "source": [
    "database = database[['SiO2', 'TiO2', 'Al2O3','FeOt', 'MnO', 'MgO', 'CaO', 'K2O', 'Na2O', 'Group']]\n",
    "database_withoutNAN = database.dropna(subset=['MnO', 'TiO2','FeOt', 'MgO', 'Na2O', 'CaO', 'Al2O3'])\n",
    "database_final = database_withoutNAN.query('SiO2 > 52 & SiO2 < 80').reset_index(drop=True)\n",
    "database_final.shape"
   ]
  },
  {
   "cell_type": "code",
   "execution_count": 5,
   "id": "443120b1",
   "metadata": {},
   "outputs": [],
   "source": [
    "#Separando variáveis preditoras e variável alvo\n",
    "\n",
    "database_preditores = database_final[['SiO2', 'TiO2', 'Al2O3','FeOt', 'MnO', 'MgO', 'CaO', \n",
    "                                'K2O', 'Na2O']]\n",
    "\n",
    "database_alvo = database_final[['Group']]"
   ]
  },
  {
   "cell_type": "code",
   "execution_count": 6,
   "id": "74cdd65e",
   "metadata": {},
   "outputs": [
    {
     "data": {
      "text/html": [
       "<div>\n",
       "<style scoped>\n",
       "    .dataframe tbody tr th:only-of-type {\n",
       "        vertical-align: middle;\n",
       "    }\n",
       "\n",
       "    .dataframe tbody tr th {\n",
       "        vertical-align: top;\n",
       "    }\n",
       "\n",
       "    .dataframe thead th {\n",
       "        text-align: right;\n",
       "    }\n",
       "</style>\n",
       "<table border=\"1\" class=\"dataframe\">\n",
       "  <thead>\n",
       "    <tr style=\"text-align: right;\">\n",
       "      <th></th>\n",
       "      <th>SiO2</th>\n",
       "      <th>TiO2</th>\n",
       "      <th>Al2O3</th>\n",
       "      <th>FeOt</th>\n",
       "      <th>MnO</th>\n",
       "      <th>MgO</th>\n",
       "      <th>CaO</th>\n",
       "      <th>K2O</th>\n",
       "      <th>Na2O</th>\n",
       "    </tr>\n",
       "  </thead>\n",
       "  <tbody>\n",
       "    <tr>\n",
       "      <th>0</th>\n",
       "      <td>65.595826</td>\n",
       "      <td>0.829426</td>\n",
       "      <td>17.134249</td>\n",
       "      <td>4.928605</td>\n",
       "      <td>0.077372</td>\n",
       "      <td>1.801216</td>\n",
       "      <td>1.818753</td>\n",
       "      <td>5.146773</td>\n",
       "      <td>2.667780</td>\n",
       "    </tr>\n",
       "    <tr>\n",
       "      <th>1</th>\n",
       "      <td>69.796557</td>\n",
       "      <td>0.710335</td>\n",
       "      <td>14.920101</td>\n",
       "      <td>4.195580</td>\n",
       "      <td>0.054092</td>\n",
       "      <td>1.632955</td>\n",
       "      <td>1.440062</td>\n",
       "      <td>5.029500</td>\n",
       "      <td>2.220819</td>\n",
       "    </tr>\n",
       "    <tr>\n",
       "      <th>2</th>\n",
       "      <td>70.750303</td>\n",
       "      <td>0.571713</td>\n",
       "      <td>15.314132</td>\n",
       "      <td>2.827681</td>\n",
       "      <td>0.053286</td>\n",
       "      <td>1.333257</td>\n",
       "      <td>1.206703</td>\n",
       "      <td>5.608338</td>\n",
       "      <td>2.334587</td>\n",
       "    </tr>\n",
       "    <tr>\n",
       "      <th>3</th>\n",
       "      <td>70.758884</td>\n",
       "      <td>0.478461</td>\n",
       "      <td>15.740098</td>\n",
       "      <td>2.513140</td>\n",
       "      <td>0.040742</td>\n",
       "      <td>0.979904</td>\n",
       "      <td>1.314200</td>\n",
       "      <td>5.291272</td>\n",
       "      <td>2.883300</td>\n",
       "    </tr>\n",
       "    <tr>\n",
       "      <th>4</th>\n",
       "      <td>70.869527</td>\n",
       "      <td>0.533421</td>\n",
       "      <td>15.315048</td>\n",
       "      <td>2.541511</td>\n",
       "      <td>0.060994</td>\n",
       "      <td>1.209900</td>\n",
       "      <td>1.238733</td>\n",
       "      <td>5.582618</td>\n",
       "      <td>2.648250</td>\n",
       "    </tr>\n",
       "    <tr>\n",
       "      <th>...</th>\n",
       "      <td>...</td>\n",
       "      <td>...</td>\n",
       "      <td>...</td>\n",
       "      <td>...</td>\n",
       "      <td>...</td>\n",
       "      <td>...</td>\n",
       "      <td>...</td>\n",
       "      <td>...</td>\n",
       "      <td>...</td>\n",
       "    </tr>\n",
       "    <tr>\n",
       "      <th>3134</th>\n",
       "      <td>66.558606</td>\n",
       "      <td>0.587580</td>\n",
       "      <td>15.297336</td>\n",
       "      <td>6.787560</td>\n",
       "      <td>0.020261</td>\n",
       "      <td>1.752609</td>\n",
       "      <td>2.968291</td>\n",
       "      <td>0.557188</td>\n",
       "      <td>5.470570</td>\n",
       "    </tr>\n",
       "    <tr>\n",
       "      <th>3135</th>\n",
       "      <td>59.406932</td>\n",
       "      <td>1.312362</td>\n",
       "      <td>15.728311</td>\n",
       "      <td>9.697455</td>\n",
       "      <td>0.120216</td>\n",
       "      <td>3.997195</td>\n",
       "      <td>4.007213</td>\n",
       "      <td>0.270487</td>\n",
       "      <td>5.459828</td>\n",
       "    </tr>\n",
       "    <tr>\n",
       "      <th>3136</th>\n",
       "      <td>66.913753</td>\n",
       "      <td>0.781328</td>\n",
       "      <td>15.326054</td>\n",
       "      <td>5.789843</td>\n",
       "      <td>0.050085</td>\n",
       "      <td>1.412401</td>\n",
       "      <td>2.794751</td>\n",
       "      <td>0.380647</td>\n",
       "      <td>6.551137</td>\n",
       "    </tr>\n",
       "    <tr>\n",
       "      <th>3137</th>\n",
       "      <td>72.219401</td>\n",
       "      <td>0.467242</td>\n",
       "      <td>12.290503</td>\n",
       "      <td>6.805485</td>\n",
       "      <td>0.020315</td>\n",
       "      <td>0.680549</td>\n",
       "      <td>2.133062</td>\n",
       "      <td>0.203149</td>\n",
       "      <td>5.180295</td>\n",
       "    </tr>\n",
       "    <tr>\n",
       "      <th>3138</th>\n",
       "      <td>58.643549</td>\n",
       "      <td>0.530342</td>\n",
       "      <td>15.502295</td>\n",
       "      <td>9.688934</td>\n",
       "      <td>0.142784</td>\n",
       "      <td>5.385008</td>\n",
       "      <td>6.109128</td>\n",
       "      <td>0.428353</td>\n",
       "      <td>3.569607</td>\n",
       "    </tr>\n",
       "  </tbody>\n",
       "</table>\n",
       "<p>3139 rows × 9 columns</p>\n",
       "</div>"
      ],
      "text/plain": [
       "           SiO2      TiO2      Al2O3      FeOt       MnO       MgO       CaO  \\\n",
       "0     65.595826  0.829426  17.134249  4.928605  0.077372  1.801216  1.818753   \n",
       "1     69.796557  0.710335  14.920101  4.195580  0.054092  1.632955  1.440062   \n",
       "2     70.750303  0.571713  15.314132  2.827681  0.053286  1.333257  1.206703   \n",
       "3     70.758884  0.478461  15.740098  2.513140  0.040742  0.979904  1.314200   \n",
       "4     70.869527  0.533421  15.315048  2.541511  0.060994  1.209900  1.238733   \n",
       "...         ...       ...        ...       ...       ...       ...       ...   \n",
       "3134  66.558606  0.587580  15.297336  6.787560  0.020261  1.752609  2.968291   \n",
       "3135  59.406932  1.312362  15.728311  9.697455  0.120216  3.997195  4.007213   \n",
       "3136  66.913753  0.781328  15.326054  5.789843  0.050085  1.412401  2.794751   \n",
       "3137  72.219401  0.467242  12.290503  6.805485  0.020315  0.680549  2.133062   \n",
       "3138  58.643549  0.530342  15.502295  9.688934  0.142784  5.385008  6.109128   \n",
       "\n",
       "           K2O      Na2O  \n",
       "0     5.146773  2.667780  \n",
       "1     5.029500  2.220819  \n",
       "2     5.608338  2.334587  \n",
       "3     5.291272  2.883300  \n",
       "4     5.582618  2.648250  \n",
       "...        ...       ...  \n",
       "3134  0.557188  5.470570  \n",
       "3135  0.270487  5.459828  \n",
       "3136  0.380647  6.551137  \n",
       "3137  0.203149  5.180295  \n",
       "3138  0.428353  3.569607  \n",
       "\n",
       "[3139 rows x 9 columns]"
      ]
     },
     "execution_count": 6,
     "metadata": {},
     "output_type": "execute_result"
    }
   ],
   "source": [
    "#Repetição para calcular a soma de elementos maiores\n",
    "database_preditores[\"soma\"] = 0\n",
    "for i in range(0,3139):\n",
    "    database_preditores[\"soma\"].loc[i] = database_preditores.iloc[i,].sum()\n",
    "\n",
    "#Repetição para normalizar o total de elementos maiores para 100\n",
    "for i in range(0, len(database_preditores)):\n",
    "    for j in range(0, len(database_preditores.columns)):\n",
    "        database_preditores.iloc[i,j] = ((database_preditores.iloc[i,j] * 100) / database_preditores.iloc[i][\"soma\"])\n",
    "\n",
    "database_preditores.drop(labels='soma', axis=1)"
   ]
  },
  {
   "attachments": {},
   "cell_type": "markdown",
   "id": "63b3890c",
   "metadata": {},
   "source": [
    "PRÉ PROCESSAMENTO"
   ]
  },
  {
   "cell_type": "code",
   "execution_count": 41,
   "id": "f2fb6340",
   "metadata": {},
   "outputs": [],
   "source": [
    "#Realizando um amostragem estratificada\n",
    "X_train, X_test, y_train, y_test = train_test_split(database_preditores, database_alvo, test_size=0.30, stratify=database_alvo, random_state=42)\n",
    "\n",
    "scaler = StandardScaler()\n",
    "encoder = LabelEncoder()\n",
    "X_train_scaled = scaler.fit_transform(X=X_train)\n",
    "y_train_encoded = encoder.fit_transform(y_train)"
   ]
  },
  {
   "cell_type": "markdown",
   "id": "f338762b",
   "metadata": {},
   "source": [
    "# <center> TESTANDO OS MELHORES MODELOS"
   ]
  },
  {
   "cell_type": "code",
   "execution_count": 95,
   "id": "e4a8ef04",
   "metadata": {},
   "outputs": [],
   "source": [
    "#post GridSearCV models\n",
    "\n",
    "best_rnd_clf = RandomForestClassifier(bootstrap=False, max_features=3, criterion='entropy', n_estimators=100, random_state=42)\n",
    "xgb_best = xgb.XGBClassifier(base_score=0.5, booster='gbtree', colsample_bylevel=0.3,\n",
    "               colsample_bynode=1, colsample_bytree=1, enable_categorical=False,\n",
    "               eval_metric='mlogloss', gamma=0, gpu_id=-1, importance_type=None,\n",
    "               interaction_constraints='', learning_rate=0.2, max_delta_step=0,\n",
    "               max_depth=6, min_child_weight=1,\n",
    "               monotone_constraints='()', n_estimators=100, n_jobs=8,\n",
    "               num_parallel_tree=5, objective='multi:softprob', predictor='auto',\n",
    "               random_state=42, reg_alpha=0, reg_lambda=1, scale_pos_weight=1.5,\n",
    "               subsample=0.9, tree_method='exact', validate_parameters=1,\n",
    "               verbosity=None)\n",
    "\n",
    "best_ada_clf = AdaBoostClassifier(DecisionTreeClassifier(max_depth=10, class_weight='balanced') ,algorithm='SAMME', n_estimators=100, learning_rate=0.75, random_state=42)\n",
    "\n",
    "modelos = [best_rnd_clf, xgb_best, best_ada_clf]"
   ]
  },
  {
   "cell_type": "code",
   "execution_count": 96,
   "id": "30d3cec4",
   "metadata": {},
   "outputs": [
    {
     "name": "stdout",
     "output_type": "stream",
     "text": [
      "RandomForestClassifier\n",
      "precisão:0.8739763331466709, revocação:0.8677953527305898, F1 score: 0.8706686475361755\n",
      "XGBClassifier\n",
      "precisão:0.8794463350987699, revocação:0.8690054558760106, F1 score: 0.8740026759886558\n",
      "AdaBoostClassifier\n",
      "precisão:0.8877234496313906, revocação:0.8780798715967576, F1 score: 0.8826251740169645\n"
     ]
    }
   ],
   "source": [
    "#Treinando classificadores com pesos para as classes\n",
    "pesos = compute_sample_weight(\"balanced\", y_train)\n",
    "treino_de_classificadores(modelos, X_train_scaled, y_train_encoded, pesos);"
   ]
  },
  {
   "cell_type": "code",
   "execution_count": 97,
   "id": "3750ac73",
   "metadata": {},
   "outputs": [],
   "source": [
    "#scaling test variables\n",
    "X_test_scaled = scaler.transform(X_test)\n",
    "y_test_encoded = encoder.transform(y_test)\n",
    "\n",
    "#testing models\n",
    "metricas_modelos = metricas_score(modelos, X_test_scaled, y_test_encoded)"
   ]
  },
  {
   "cell_type": "code",
   "execution_count": 109,
   "id": "6a3dc140",
   "metadata": {},
   "outputs": [
    {
     "data": {
      "image/png": "[encoded data removed]",
      "text/plain": [
       "<Figure size 504x504 with 1 Axes>"
      ]
     },
     "metadata": {},
     "output_type": "display_data"
    }
   ],
   "source": [
    "sns.set(style=\"ticks\")\n",
    "plt.figure(figsize = (7, 7))\n",
    "plt.ylim(0.5, 1)\n",
    "ax = sns.barplot(x=metricas_modelos['Modelo'], y=metricas_modelos['F1'], data=metricas_modelos, palette=\"pastel\")\n",
    "for container in ax.containers:\n",
    "    ax.bar_label(container)\n",
    "plt.xticks(rotation = 45)\n",
    "ax.set_yticks([0.5,0.6,0.7,0.8,0.9,1])\n",
    "ax.tick_params(axis='y', colors='black');\n",
    "plt.savefig('Scores.jpg', dpi=600, format='jpg', bbox_inches = 'tight')"
   ]
  },
  {
   "cell_type": "code",
   "execution_count": 115,
   "id": "c23e51c3",
   "metadata": {},
   "outputs": [
    {
     "data": {
      "image/png": "[encoded data removed]",
      "text/plain": [
       "<Figure size 1080x1080 with 2 Axes>"
      ]
     },
     "metadata": {},
     "output_type": "display_data"
    }
   ],
   "source": [
    "#predictions for test\n",
    "random_forest_predictions = best_rnd_clf.predict(X_test_scaled)\n",
    "ada_boost_predictions = best_ada_clf.predict(X_test_scaled)\n",
    "\n",
    "#confusion matrix\n",
    "conf_matrix1 = confusion_matrix(y_test_encoded, random_forest_predictions)\n",
    "conf_matrix2 = confusion_matrix(y_test_encoded, ada_boost_predictions)\n",
    "\n",
    "#Displaying confusion matrix for random forest test\n",
    "fig, ax = plt.subplots(1,2,figsize=(15, 15))\n",
    "ax[0].set_title(\"Random Forest\")\n",
    "ax[1].set_title(\"ADAboost\")\n",
    "\n",
    "cm = ConfusionMatrixDisplay(conf_matrix1,display_labels=encoder.classes_)\n",
    "cm.plot(ax=ax[0], xticks_rotation=45,cmap='magma', colorbar=False)\n",
    "\n",
    "#Displaying confusion matrix for adaboost test\n",
    "cm = ConfusionMatrixDisplay(conf_matrix2,display_labels=encoder.classes_)\n",
    "cm.plot(ax=ax[1], xticks_rotation=45,cmap='magma', colorbar=False)\n",
    "\n",
    "plt.subplots_adjust(wspace=0.40, hspace=0.1)\n",
    "plt.show()\n",
    "\n"
   ]
  }
 ],
 "metadata": {
  "kernelspec": {
   "display_name": "base",
   "language": "python",
   "name": "python3"
  },
  "language_info": {
   "codemirror_mode": {
    "name": "ipython",
    "version": 3
   },
   "file_extension": ".py",
   "mimetype": "text/x-python",
   "name": "python",
   "nbconvert_exporter": "python",
   "pygments_lexer": "ipython3",
   "version": "3.9.7"
  },
  "vscode": {
   "interpreter": {
    "hash": "40afe19426108136bbff523a5ee7648410555eea8397997f95af9134e9972f9a"
   }
  }
 },
 "nbformat": 4,
 "nbformat_minor": 5
}
