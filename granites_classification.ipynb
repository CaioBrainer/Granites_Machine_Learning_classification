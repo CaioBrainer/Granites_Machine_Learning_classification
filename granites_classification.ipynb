{
 "cells": [
  {
   "cell_type": "markdown",
   "id": "8c93e251",
   "metadata": {},
   "source": [
    "# <center> CLASSIFICAÇÃO DE GRANITOS"
   ]
  },
  {
   "cell_type": "code",
   "execution_count": 1,
   "id": "22961b83",
   "metadata": {},
   "outputs": [],
   "source": [
    "#utilitários\n",
    "import pandas as pd\n",
    "import numpy as np\n",
    "import matplotlib.pyplot as plt\n",
    "import seaborn as sns\n",
    "import os\n",
    "\n",
    "#Pré processamento\n",
    "from sklearn.preprocessing import StandardScaler, OneHotEncoder, LabelEncoder\n",
    "from sklearn.compose import ColumnTransformer\n",
    "from sklearn.model_selection import train_test_split\n",
    "\n",
    "#Modelos\n",
    "from sklearn.svm import SVC\n",
    "from sklearn.ensemble import RandomForestClassifier\n",
    "import xgboost as xgb\n",
    "import lightgbm as lgb\n",
    "\n",
    "\n",
    "#Avaliadores\n",
    "from sklearn.model_selection import cross_val_score\n",
    "from sklearn.model_selection import cross_val_predict\n",
    "from sklearn.metrics import roc_auc_score\n",
    "from sklearn.metrics import f1_score, precision_score, recall_score, classification_report, accuracy_score, confusion_matrix\n",
    "from sklearn.utils import compute_sample_weight\n",
    "\n",
    "#Otimizadores\n",
    "from sklearn.model_selection import GridSearchCV\n",
    "from sklearn.model_selection import RandomizedSearchCV\n",
    "#salvar e carregar modelos treinados\n",
    "import joblib\n",
    "\n",
    "#filtrando alertas\n",
    "import warnings\n",
    "warnings.filterwarnings(\"ignore\")\n",
    "xgb.set_config(verbosity=0)\n",
    "\n",
    "#parâmetros para o matplotlib\n",
    "plt.rcParams.update({'font.size': 14})"
   ]
  },
  {
   "cell_type": "code",
   "execution_count": 2,
   "id": "046ea092",
   "metadata": {},
   "outputs": [],
   "source": [
    "#funções usadas no notebook\n",
    "\n",
    "def treino_de_classificadores(classificadores, X_treino, y_treino, pesos):\n",
    "    for classificador in classificadores:\n",
    "        classificador.fit(X_treino, np.ravel(y_treino), sample_weight=pesos)\n",
    "        y_previsao = cross_val_predict(classificador, X_treino, y_treino, cv=10)\n",
    "        precisao = precision_score(y_treino, y_previsao, average = 'macro')\n",
    "        revocacao = recall_score(y_treino, y_previsao, average = 'macro')\n",
    "        pontuacao_f1 = f1_score(y_treino, y_previsao, average = 'macro')\n",
    "        print(classificador.__class__.__name__)\n",
    "        print(f'precisão:{precisao}, revocação:{revocacao}, F1 score: {pontuacao_f1}')\n",
    "        \n",
    "def teste_de_modelos(modelos, X_teste, y_teste):\n",
    "    for modelo in modelos:\n",
    "        previsoes_teste = modelo.predict(X_teste)\n",
    "        print(modelo.__class__.__name__)\n",
    "        print(classification_report(y_teste, previsoes_teste))\n",
    "        print('_________________________________________________________________________________________________________')\n",
    "        \n",
    "def metricas_score(modelos, X_teste, y_teste):\n",
    "    metricas_modelo = {}\n",
    "    for indice, modelo in enumerate(modelos):\n",
    "        nome = modelo.__class__.__name__\n",
    "        previsao = modelo.predict(X_teste)\n",
    "        f1 = f1_score(y_teste, previsao, average='macro')\n",
    "        precisao = precision_score(y_teste, previsao, average='macro')\n",
    "        acuracia = accuracy_score(y_teste, previsao)\n",
    "        metricas_modelo[indice] = nome, f1, acuracia, precisao\n",
    "        \n",
    "    return pd.DataFrame.from_dict(metricas_modelo, orient='index', columns=['Modelo', 'F1', 'Acurácia', 'Precisão'])"
   ]
  },
  {
   "cell_type": "markdown",
   "id": "61a55182",
   "metadata": {},
   "source": [
    "## <center> CARREGANDO OS DADOS"
   ]
  },
  {
   "cell_type": "code",
   "execution_count": 3,
   "id": "3449f90d",
   "metadata": {
    "scrolled": true
   },
   "outputs": [
    {
     "data": {
      "text/html": [
       "<div>\n",
       "<style scoped>\n",
       "    .dataframe tbody tr th:only-of-type {\n",
       "        vertical-align: middle;\n",
       "    }\n",
       "\n",
       "    .dataframe tbody tr th {\n",
       "        vertical-align: top;\n",
       "    }\n",
       "\n",
       "    .dataframe thead th {\n",
       "        text-align: right;\n",
       "    }\n",
       "</style>\n",
       "<table border=\"1\" class=\"dataframe\">\n",
       "  <thead>\n",
       "    <tr style=\"text-align: right;\">\n",
       "      <th></th>\n",
       "      <th>SiO2</th>\n",
       "      <th>TiO2</th>\n",
       "      <th>Al2O3</th>\n",
       "      <th>FeOt</th>\n",
       "      <th>CaO</th>\n",
       "      <th>MgO</th>\n",
       "      <th>MnO</th>\n",
       "      <th>K2O</th>\n",
       "      <th>Na2O</th>\n",
       "      <th>A/NK</th>\n",
       "      <th>A/CNK</th>\n",
       "      <th>Fe#</th>\n",
       "      <th>K2O/Na2O</th>\n",
       "      <th>Na2O+K2O</th>\n",
       "      <th>Q</th>\n",
       "      <th>An</th>\n",
       "      <th>Ab</th>\n",
       "      <th>Or</th>\n",
       "      <th>Group</th>\n",
       "    </tr>\n",
       "  </thead>\n",
       "  <tbody>\n",
       "    <tr>\n",
       "      <th>0</th>\n",
       "      <td>65.40690</td>\n",
       "      <td>0.827037</td>\n",
       "      <td>17.08490</td>\n",
       "      <td>4.914410</td>\n",
       "      <td>1.813515</td>\n",
       "      <td>1.796028</td>\n",
       "      <td>0.077149</td>\n",
       "      <td>5.131949</td>\n",
       "      <td>2.660096</td>\n",
       "      <td>1.719984</td>\n",
       "      <td>1.291329</td>\n",
       "      <td>0.732353</td>\n",
       "      <td>1.929235</td>\n",
       "      <td>7.792045</td>\n",
       "      <td>24.548928</td>\n",
       "      <td>7.115483</td>\n",
       "      <td>22.508991</td>\n",
       "      <td>30.328349</td>\n",
       "      <td>1- CPG &amp; MPG</td>\n",
       "    </tr>\n",
       "    <tr>\n",
       "      <th>1</th>\n",
       "      <td>69.64232</td>\n",
       "      <td>0.708766</td>\n",
       "      <td>14.88713</td>\n",
       "      <td>4.186309</td>\n",
       "      <td>1.436880</td>\n",
       "      <td>1.629346</td>\n",
       "      <td>0.053972</td>\n",
       "      <td>5.018386</td>\n",
       "      <td>2.215911</td>\n",
       "      <td>1.639651</td>\n",
       "      <td>1.273279</td>\n",
       "      <td>0.719834</td>\n",
       "      <td>2.264706</td>\n",
       "      <td>7.234297</td>\n",
       "      <td>32.669551</td>\n",
       "      <td>5.684928</td>\n",
       "      <td>18.750421</td>\n",
       "      <td>29.657224</td>\n",
       "      <td>1- CPG &amp; MPG</td>\n",
       "    </tr>\n",
       "    <tr>\n",
       "      <th>2</th>\n",
       "      <td>70.61077</td>\n",
       "      <td>0.570585</td>\n",
       "      <td>15.28393</td>\n",
       "      <td>2.822104</td>\n",
       "      <td>1.204323</td>\n",
       "      <td>1.330627</td>\n",
       "      <td>0.053181</td>\n",
       "      <td>5.597277</td>\n",
       "      <td>2.329983</td>\n",
       "      <td>1.544776</td>\n",
       "      <td>1.264847</td>\n",
       "      <td>0.679578</td>\n",
       "      <td>2.402282</td>\n",
       "      <td>7.927260</td>\n",
       "      <td>31.635693</td>\n",
       "      <td>4.686449</td>\n",
       "      <td>19.715667</td>\n",
       "      <td>33.078304</td>\n",
       "      <td>1- CPG &amp; MPG</td>\n",
       "    </tr>\n",
       "    <tr>\n",
       "      <th>3</th>\n",
       "      <td>70.61724</td>\n",
       "      <td>0.477503</td>\n",
       "      <td>15.70859</td>\n",
       "      <td>2.508109</td>\n",
       "      <td>1.311569</td>\n",
       "      <td>0.977942</td>\n",
       "      <td>0.040661</td>\n",
       "      <td>5.280680</td>\n",
       "      <td>2.877528</td>\n",
       "      <td>1.502937</td>\n",
       "      <td>1.223734</td>\n",
       "      <td>0.719470</td>\n",
       "      <td>1.835145</td>\n",
       "      <td>8.158208</td>\n",
       "      <td>29.973384</td>\n",
       "      <td>5.199155</td>\n",
       "      <td>24.348840</td>\n",
       "      <td>31.207307</td>\n",
       "      <td>1- CPG &amp; MPG</td>\n",
       "    </tr>\n",
       "    <tr>\n",
       "      <th>4</th>\n",
       "      <td>70.70878</td>\n",
       "      <td>0.532211</td>\n",
       "      <td>15.28031</td>\n",
       "      <td>2.535746</td>\n",
       "      <td>1.235924</td>\n",
       "      <td>1.207156</td>\n",
       "      <td>0.060856</td>\n",
       "      <td>5.569955</td>\n",
       "      <td>2.642243</td>\n",
       "      <td>1.472364</td>\n",
       "      <td>1.210301</td>\n",
       "      <td>0.677481</td>\n",
       "      <td>2.108040</td>\n",
       "      <td>8.212198</td>\n",
       "      <td>30.221927</td>\n",
       "      <td>4.649750</td>\n",
       "      <td>22.357924</td>\n",
       "      <td>32.916839</td>\n",
       "      <td>1- CPG &amp; MPG</td>\n",
       "    </tr>\n",
       "  </tbody>\n",
       "</table>\n",
       "</div>"
      ],
      "text/plain": [
       "       SiO2      TiO2     Al2O3      FeOt       CaO       MgO       MnO  \\\n",
       "0  65.40690  0.827037  17.08490  4.914410  1.813515  1.796028  0.077149   \n",
       "1  69.64232  0.708766  14.88713  4.186309  1.436880  1.629346  0.053972   \n",
       "2  70.61077  0.570585  15.28393  2.822104  1.204323  1.330627  0.053181   \n",
       "3  70.61724  0.477503  15.70859  2.508109  1.311569  0.977942  0.040661   \n",
       "4  70.70878  0.532211  15.28031  2.535746  1.235924  1.207156  0.060856   \n",
       "\n",
       "        K2O      Na2O      A/NK     A/CNK       Fe#  K2O/Na2O  Na2O+K2O  \\\n",
       "0  5.131949  2.660096  1.719984  1.291329  0.732353  1.929235  7.792045   \n",
       "1  5.018386  2.215911  1.639651  1.273279  0.719834  2.264706  7.234297   \n",
       "2  5.597277  2.329983  1.544776  1.264847  0.679578  2.402282  7.927260   \n",
       "3  5.280680  2.877528  1.502937  1.223734  0.719470  1.835145  8.158208   \n",
       "4  5.569955  2.642243  1.472364  1.210301  0.677481  2.108040  8.212198   \n",
       "\n",
       "           Q        An         Ab         Or         Group  \n",
       "0  24.548928  7.115483  22.508991  30.328349  1- CPG & MPG  \n",
       "1  32.669551  5.684928  18.750421  29.657224  1- CPG & MPG  \n",
       "2  31.635693  4.686449  19.715667  33.078304  1- CPG & MPG  \n",
       "3  29.973384  5.199155  24.348840  31.207307  1- CPG & MPG  \n",
       "4  30.221927  4.649750  22.357924  32.916839  1- CPG & MPG  "
      ]
     },
     "execution_count": 3,
     "metadata": {},
     "output_type": "execute_result"
    }
   ],
   "source": [
    "#Carregando o database tratado\n",
    "database = pd.read_csv('dataset/granitos_db_att.csv', sep = '\\t', index_col = 0)\n",
    "database.head()"
   ]
  },
  {
   "cell_type": "markdown",
   "id": "30ee9c1a",
   "metadata": {},
   "source": [
    "### <center> PRE PROCESSAMENTO"
   ]
  },
  {
   "cell_type": "code",
   "execution_count": 4,
   "id": "3a116d9d",
   "metadata": {},
   "outputs": [
    {
     "data": {
      "text/plain": [
       "SiO2        0\n",
       "TiO2        0\n",
       "Al2O3       0\n",
       "FeOt        0\n",
       "CaO         0\n",
       "MgO         0\n",
       "MnO         0\n",
       "K2O         0\n",
       "Na2O        0\n",
       "A/NK        0\n",
       "A/CNK       0\n",
       "Fe#         0\n",
       "K2O/Na2O    0\n",
       "Na2O+K2O    0\n",
       "Q           0\n",
       "An          0\n",
       "Ab          0\n",
       "Or          0\n",
       "Group       0\n",
       "dtype: int64"
      ]
     },
     "execution_count": 4,
     "metadata": {},
     "output_type": "execute_result"
    }
   ],
   "source": [
    "#verificando dados ausentes no database\n",
    "\n",
    "database.isna().sum()"
   ]
  },
  {
   "cell_type": "code",
   "execution_count": 5,
   "id": "443120b1",
   "metadata": {},
   "outputs": [],
   "source": [
    "#Removendo colunas com dados ausentes\n",
    "\n",
    "database = database.dropna(subset=['MnO', 'TiO2','FeOt', 'MgO', 'Na2O', 'CaO', 'Al2O3'])\n",
    "\n",
    "\n",
    "#Separando variáveis preditoras e variável alvo\n",
    "\n",
    "database_preditores = database[['SiO2', 'TiO2', 'Al2O3','FeOt', 'MnO', 'MgO', 'CaO', \n",
    "                                'K2O', 'Na2O']]\n",
    "\n",
    "database_alvo = database[['Group']]"
   ]
  },
  {
   "cell_type": "code",
   "execution_count": 6,
   "id": "f2fb6340",
   "metadata": {},
   "outputs": [],
   "source": [
    "#Escalonando as variáveis numéricas\n",
    "\n",
    "atributos_numericos = ['SiO2', 'TiO2', 'Al2O3','FeOt', 'MnO', 'MgO', 'CaO', \n",
    "                                'K2O', 'Na2O']\n",
    "\n",
    "tratamento_pipeline = ColumnTransformer([\n",
    "    (\"atributos_numéricos\", StandardScaler(), atributos_numericos),\n",
    "])\n",
    "\n",
    "database_preditores = pd.DataFrame(tratamento_pipeline.fit_transform(database_preditores))"
   ]
  },
  {
   "cell_type": "code",
   "execution_count": 7,
   "id": "77508a45",
   "metadata": {},
   "outputs": [],
   "source": [
    "#Preparando a separação dos dados de treino e teste\n",
    "\n",
    "\n",
    "#Realizando um amostragem estratificada\n",
    "X_treino, X_teste, y_treino, y_teste = train_test_split(database_preditores, database_alvo, test_size=0.30, stratify=database_alvo, random_state=42)"
   ]
  },
  {
   "cell_type": "code",
   "execution_count": 8,
   "id": "d6ce3d7f",
   "metadata": {},
   "outputs": [
    {
     "data": {
      "text/plain": [
       "((2230, 9), (956, 9), (2230, 1), (956, 1))"
      ]
     },
     "execution_count": 8,
     "metadata": {},
     "output_type": "execute_result"
    }
   ],
   "source": [
    "X_treino.shape, X_teste.shape, y_treino.shape, y_teste.shape"
   ]
  },
  {
   "cell_type": "markdown",
   "id": "f338762b",
   "metadata": {},
   "source": [
    "# <center> TESTANDO OS MELHORES MODELOS"
   ]
  },
  {
   "cell_type": "code",
   "execution_count": 9,
   "id": "e4a8ef04",
   "metadata": {},
   "outputs": [],
   "source": [
    "#Melhores modelos pós grid search (omiti o grid search aqui devido ao grande tempo de execução)\n",
    "\n",
    "best_rnd_clf = RandomForestClassifier(bootstrap=False, max_features=3, criterion='entropy', n_estimators=100, random_state=42)\n",
    "best_svc_clf = SVC(kernel='rbf' ,C=300, gamma=1, random_state=42)\n",
    "xgb_best = xgb.XGBClassifier(base_score=0.5, booster='gbtree', colsample_bylevel=0.3,\n",
    "               colsample_bynode=1, colsample_bytree=1, enable_categorical=False,\n",
    "               eval_metric='mlogloss', gamma=0, gpu_id=-1, importance_type=None,\n",
    "               interaction_constraints='', learning_rate=0.2, max_delta_step=0,\n",
    "               max_depth=6, min_child_weight=1,\n",
    "               monotone_constraints='()', n_estimators=100, n_jobs=8,\n",
    "               num_parallel_tree=5, objective='multi:softprob', predictor='auto',\n",
    "               random_state=42, reg_alpha=0, reg_lambda=1, scale_pos_weight=1.5,\n",
    "               subsample=0.9, tree_method='exact', validate_parameters=1,\n",
    "               verbosity=None)\n",
    "\n",
    "xgb_RF = xgb.XGBRFClassifier(base_score=0.5, booster='gbtree', colsample_bylevel=0.3,\n",
    "               colsample_bynode=1, colsample_bytree=1, enable_categorical=False,\n",
    "               eval_metric='mlogloss', gamma=0, gpu_id=-1, importance_type=None,\n",
    "               interaction_constraints='', learning_rate=0.2, max_delta_step=0,\n",
    "               max_depth=9, min_child_weight=1,\n",
    "               monotone_constraints='()', n_estimators=100, n_jobs=8,\n",
    "               num_parallel_tree=100, objective='multi:softprob', predictor='auto',\n",
    "               random_state=42, reg_alpha=0, reg_lambda=1, scale_pos_weight=1.5,\n",
    "               subsample=0.9, tree_method='exact', validate_parameters=1,\n",
    "               verbosity=None)\n",
    "\n",
    "modelos = [best_rnd_clf, best_svc_clf, xgb_best, xgb_RF]"
   ]
  },
  {
   "cell_type": "code",
   "execution_count": 10,
   "id": "30d3cec4",
   "metadata": {},
   "outputs": [
    {
     "name": "stdout",
     "output_type": "stream",
     "text": [
      "RandomForestClassifier\n",
      "precisão:0.8711052671023637, revocação:0.8669905626534034, F1 score: 0.8688077693908555\n",
      "SVC\n",
      "precisão:0.857752911494461, revocação:0.8291700238020058, F1 score: 0.8410048396093179\n",
      "XGBClassifier\n",
      "precisão:0.8776334847380808, revocação:0.86763373986093, F1 score: 0.8723133820723662\n",
      "XGBRFClassifier\n",
      "precisão:0.8498942488853564, revocação:0.8407798079757326, F1 score: 0.84459454832353\n"
     ]
    }
   ],
   "source": [
    "#Treinando classificadores com pesos para as classes\n",
    "pesos = compute_sample_weight(\"balanced\", y_treino)\n",
    "treino_de_classificadores(modelos, X_treino, y_treino, pesos);"
   ]
  },
  {
   "cell_type": "code",
   "execution_count": 11,
   "id": "3750ac73",
   "metadata": {},
   "outputs": [],
   "source": [
    "metricas_modelos = metricas_score(modelos, X_teste, y_teste)"
   ]
  },
  {
   "cell_type": "code",
   "execution_count": 12,
   "id": "5f43c992",
   "metadata": {},
   "outputs": [
    {
     "data": {
      "text/html": [
       "<div>\n",
       "<style scoped>\n",
       "    .dataframe tbody tr th:only-of-type {\n",
       "        vertical-align: middle;\n",
       "    }\n",
       "\n",
       "    .dataframe tbody tr th {\n",
       "        vertical-align: top;\n",
       "    }\n",
       "\n",
       "    .dataframe thead th {\n",
       "        text-align: right;\n",
       "    }\n",
       "</style>\n",
       "<table border=\"1\" class=\"dataframe\">\n",
       "  <thead>\n",
       "    <tr style=\"text-align: right;\">\n",
       "      <th></th>\n",
       "      <th>Modelo</th>\n",
       "      <th>F1</th>\n",
       "      <th>Acurácia</th>\n",
       "      <th>Precisão</th>\n",
       "    </tr>\n",
       "  </thead>\n",
       "  <tbody>\n",
       "    <tr>\n",
       "      <th>0</th>\n",
       "      <td>RandomForestClassifier</td>\n",
       "      <td>0.880107</td>\n",
       "      <td>0.869247</td>\n",
       "      <td>0.878013</td>\n",
       "    </tr>\n",
       "    <tr>\n",
       "      <th>1</th>\n",
       "      <td>SVC</td>\n",
       "      <td>0.860072</td>\n",
       "      <td>0.855649</td>\n",
       "      <td>0.880950</td>\n",
       "    </tr>\n",
       "    <tr>\n",
       "      <th>2</th>\n",
       "      <td>XGBClassifier</td>\n",
       "      <td>0.871072</td>\n",
       "      <td>0.860879</td>\n",
       "      <td>0.870260</td>\n",
       "    </tr>\n",
       "    <tr>\n",
       "      <th>3</th>\n",
       "      <td>XGBRFClassifier</td>\n",
       "      <td>0.821405</td>\n",
       "      <td>0.801255</td>\n",
       "      <td>0.810362</td>\n",
       "    </tr>\n",
       "  </tbody>\n",
       "</table>\n",
       "</div>"
      ],
      "text/plain": [
       "                   Modelo        F1  Acurácia  Precisão\n",
       "0  RandomForestClassifier  0.880107  0.869247  0.878013\n",
       "1                     SVC  0.860072  0.855649  0.880950\n",
       "2           XGBClassifier  0.871072  0.860879  0.870260\n",
       "3         XGBRFClassifier  0.821405  0.801255  0.810362"
      ]
     },
     "execution_count": 12,
     "metadata": {},
     "output_type": "execute_result"
    }
   ],
   "source": [
    "metricas_modelos"
   ]
  },
  {
   "cell_type": "code",
   "execution_count": 13,
   "id": "6a3dc140",
   "metadata": {},
   "outputs": [
    {
     "data": {
      "image/png": "[encoded data removed]",
      "text/plain": [
       "<Figure size 504x504 with 1 Axes>"
      ]
     },
     "metadata": {
      "needs_background": "light"
     },
     "output_type": "display_data"
    }
   ],
   "source": [
    "plt.figure(figsize = (7, 7))\n",
    "plt.ylim(0.5, 1)\n",
    "ax = sns.barplot(x=metricas_modelos['Modelo'], y=metricas_modelos['Acurácia'], data=metricas_modelos)\n",
    "for container in ax.containers:\n",
    "    ax.bar_label(container)\n",
    "#plt.savefig('Scores_modelos.pdf', dpi=600, format='pdf')"
   ]
  }
 ],
 "metadata": {
  "kernelspec": {
   "display_name": "base",
   "language": "python",
   "name": "python3"
  },
  "language_info": {
   "codemirror_mode": {
    "name": "ipython",
    "version": 3
   },
   "file_extension": ".py",
   "mimetype": "text/x-python",
   "name": "python",
   "nbconvert_exporter": "python",
   "pygments_lexer": "ipython3",
   "version": "3.9.7"
  },
  "vscode": {
   "interpreter": {
    "hash": "40afe19426108136bbff523a5ee7648410555eea8397997f95af9134e9972f9a"
   }
  }
 },
 "nbformat": 4,
 "nbformat_minor": 5
}
