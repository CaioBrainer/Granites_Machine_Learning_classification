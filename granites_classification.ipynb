{
 "cells": [
  {
   "cell_type": "markdown",
   "id": "8c93e251",
   "metadata": {},
   "source": [
    "# <center> GRANITES CLASSIFICATION"
   ]
  },
  {
   "cell_type": "code",
   "execution_count": null,
   "id": "22961b83",
   "metadata": {},
   "outputs": [],
   "source": [
    "#utilitários\n",
    "import pandas as pd\n",
    "import numpy as np\n",
    "import matplotlib.pyplot as plt\n",
    "import seaborn as sns\n",
    "\n",
    "#Pré processamento\n",
    "from sklearn.preprocessing import StandardScaler,LabelEncoder\n",
    "from sklearn.model_selection import train_test_split\n",
    "from sklearn.model_selection import cross_val_predict\n",
    "\n",
    "\n",
    "#Modelos\n",
    "from sklearn.tree import DecisionTreeClassifier\n",
    "from sklearn.ensemble import RandomForestClassifier\n",
    "from sklearn.ensemble import AdaBoostClassifier\n",
    "import xgboost as xgb\n",
    "from xgboost import XGBClassifier\n",
    "from lightgbm import LGBMClassifier\n",
    "\n",
    "\n",
    "#SMOTE\n",
    "from imblearn.over_sampling import SMOTE\n",
    "\n",
    "#Bayesian Optimization\n",
    "from bayes_opt import BayesianOptimization\n",
    "\n",
    "#Avaliadores\n",
    "from sklearn.metrics import f1_score, precision_score, recall_score, \\\n",
    "    classification_report, accuracy_score, confusion_matrix, \\\n",
    "        ConfusionMatrixDisplay\n",
    "\n",
    "from sklearn.utils import compute_sample_weight\n",
    "from sklearn.model_selection import cross_val_score\n",
    "import shap\n",
    "\n",
    "#salvar e carregar modelos treinados\n",
    "import joblib\n",
    "\n",
    "#filtrando alertas\n",
    "import warnings\n",
    "warnings.filterwarnings(\"ignore\")\n",
    "xgb.set_config(verbosity=0)\n",
    "\n",
    "#parâmetros para o matplotlib\n",
    "plt.rcParams.update({'font.size': 14, 'axes.grid': False, 'xtick.bottom':True })\n",
    "sns.set_style(\"ticks\")"
   ]
  },
  {
   "cell_type": "code",
   "execution_count": null,
   "id": "046ea092",
   "metadata": {},
   "outputs": [],
   "source": [
    "###################################################################################################\n",
    "#funções usadas no notebook\n",
    "###################################################################################################\n",
    "\n",
    "def treino_de_classificadores(classificadores, X_treino, y_treino, pesos=None):\n",
    "    '''Função de treino de classificadores e métricas'''\n",
    "    for classificador in classificadores:\n",
    "        classificador.fit(X_treino, np.ravel(y_treino), sample_weight=pesos)\n",
    "        y_previsao = cross_val_predict(classificador, X_treino, y_treino, cv=10)\n",
    "        precisao = precision_score(y_treino, y_previsao, average = 'weighted')\n",
    "        revocacao = recall_score(y_treino, y_previsao, average = 'weighted')\n",
    "        pontuacao_f1 = f1_score(y_treino, y_previsao, average = 'weighted')\n",
    "        print(classificador.__class__.__name__)\n",
    "        print(f'precisão:{precisao}, revocação:{revocacao}, F1 score: {pontuacao_f1}')\n",
    "        \n",
    "def teste_de_modelos(modelos, X_teste, y_teste):\n",
    "    for modelo in modelos:\n",
    "        previsoes_teste = modelo.predict(X_teste)\n",
    "        print(modelo.__class__.__name__)\n",
    "        print(classification_report(y_teste, previsoes_teste))\n",
    "        print('_________________________________________________________________________________________________________')\n",
    "        \n",
    "def metricas_score(modelos, X_teste, y_teste, imb_treatment='No_treatment'): #imb_treatment\n",
    "    '''Avialia modelos treinados com base em diferentes métricas'''\n",
    "    metricas_modelo = {}\n",
    "    for indice, modelo in enumerate(modelos):\n",
    "        nome = modelo.__class__.__name__\n",
    "        previsao = modelo.predict(X_teste)\n",
    "        f1 = f1_score(y_teste, previsao, average='weighted')\n",
    "        precisao = precision_score(y_teste, previsao, average='weighted')\n",
    "        acuracia = accuracy_score(y_teste, previsao)\n",
    "        imb_treatment = imb_treatment\n",
    "\n",
    "        metricas_modelo[indice] = nome, f1, acuracia, precisao, imb_treatment\n",
    "        \n",
    "        \n",
    "    return pd.DataFrame.from_dict(metricas_modelo, orient='index', columns=['Modelo', 'F1', 'Acurácia', 'Precisão', 'imb_treatment'])"
   ]
  },
  {
   "cell_type": "markdown",
   "id": "61a55182",
   "metadata": {},
   "source": [
    "## <center> LOADING AND PREPARING DATA"
   ]
  },
  {
   "cell_type": "code",
   "execution_count": null,
   "id": "3449f90d",
   "metadata": {
    "scrolled": true
   },
   "outputs": [],
   "source": [
    "#Carregando o database tratado\n",
    "database = pd.read_csv('dataset/GDB_Bonin(2020)_update.csv')\n",
    "\n",
    "#Separando variáveis preditoras e variável alvo\n",
    "\n",
    "database_preditores = database[['SiO2', 'TiO2', 'Al2O3','FeOt', 'MnO', 'MgO', 'CaO', \n",
    "                                'K2O', 'Na2O']]\n",
    "\n",
    "database_alvo = database[['Group']]"
   ]
  },
  {
   "cell_type": "markdown",
   "id": "092131e3",
   "metadata": {},
   "source": [
    "## <center> EXPLORATORY DATA ANALYSIS"
   ]
  },
  {
   "cell_type": "code",
   "execution_count": null,
   "id": "6621231b",
   "metadata": {
    "scrolled": false
   },
   "outputs": [],
   "source": [
    "fig, axes = plt.subplots(3, 3, figsize=(15,15))\n",
    "plt.subplots_adjust(wspace=0.40, hspace=0.1)\n",
    "\n",
    "contagem = 0\n",
    "for i in range(0,2):\n",
    "    for j in range(0,3):\n",
    "        sns.boxplot(ax=axes[i, j], data=database_preditores, x=database_alvo['Group'], \n",
    "                    y=database_preditores.columns[contagem], palette=\"Paired\", order=['1- CPG & MPG', '2- Archaean TTG', '3- RTG', '4- ACG & ATG',\n",
    "       '5- KCG', '6-PAG and syenites'])\n",
    "        contagem += 1       \n",
    "\n",
    "for i in range(0,3):\n",
    "    axes[0,i].set_xticklabels(\"\", rotation=45, ha='right')\n",
    "for i in range(0,3):\n",
    "    axes[1,i].set_xticklabels(\"\", rotation=45, ha='right')\n",
    "    \n",
    "for i in range(2,3):\n",
    "    for j in range(0,3):\n",
    "        sns.boxplot(ax=axes[i, j], data=database_preditores, x=database_alvo['Group'], \n",
    "                    y=database_preditores.columns[contagem], palette=\"Paired\", order=['1- CPG & MPG', '2- Archaean TTG', '3- RTG', '4- ACG & ATG',\n",
    "       '5- KCG', '6-PAG and syenites'])\n",
    "        contagem += 1        \n",
    "for i in range(0,3):\n",
    "    axes[2,i].set_xticklabels(axes[2,i].get_xticklabels(), rotation=45, ha='right')\n",
    "    \n",
    "plt.setp(axes, xlabel=None);\n",
    "plt.savefig('boxplot.jpeg', bbox_inches='tight')"
   ]
  },
  {
   "cell_type": "markdown",
   "id": "63b3890c",
   "metadata": {},
   "source": [
    "# <center> PRE PROCESSING DATA"
   ]
  },
  {
   "cell_type": "code",
   "execution_count": null,
   "id": "cf4c91ef",
   "metadata": {},
   "outputs": [],
   "source": [
    "encoder.classes_"
   ]
  },
  {
   "cell_type": "code",
   "execution_count": null,
   "id": "f0ce2c38",
   "metadata": {},
   "outputs": [],
   "source": [
    "#Realizando um amostragem estratificada\n",
    "X_train, X_test, y_train, y_test = train_test_split(database_preditores, database_alvo, \n",
    "                                                    test_size=0.30, stratify=database_alvo, random_state=42)\n",
    "\n",
    "scaler = StandardScaler()\n",
    "encoder = LabelEncoder()\n",
    "X_train_scaled = scaler.fit_transform(X_train)\n",
    "y_train_encoded = encoder.fit_transform(y_train)"
   ]
  },
  {
   "cell_type": "markdown",
   "id": "9f7b58d0",
   "metadata": {},
   "source": [
    "# <center> TRAINING BASE MODELS"
   ]
  },
  {
   "cell_type": "code",
   "execution_count": null,
   "id": "363d1be6",
   "metadata": {},
   "outputs": [],
   "source": [
    "from sklearn.discriminant_analysis import LinearDiscriminantAnalysis\n",
    "\n",
    "lda_clf = LinearDiscriminantAnalysis(n_components=3)\n",
    "lda_model = lda_clf.fit(X_train_scaled, y_train_encoded).transform(X_train_scaled)\n",
    "\n",
    "models_base = [lda_clf]\n",
    "X_test_scaled = scaler.transform(X_test)\n",
    "y_test_encoded = encoder.transform(y_test)\n",
    "\n",
    "\n",
    "metricas_modelos = metricas_score(models_base, X_test_scaled, y_test_encoded, 'lda')\n",
    "metricas_modelos"
   ]
  },
  {
   "cell_type": "code",
   "execution_count": null,
   "id": "295beb65",
   "metadata": {},
   "outputs": [],
   "source": [
    "plt.subplots(figsize=(10,10))\n",
    "sns.scatterplot(x=lda_model[:,0], y=lda_model[:,1], hue=y_train_encoded, palette=\"deep\")\n",
    "plt.legend(loc='upper left')\n",
    "sns.set_style(\"whitegrid\");\n"
   ]
  },
  {
   "cell_type": "markdown",
   "id": "f338762b",
   "metadata": {},
   "source": [
    "# <center> TRAINING AND TESTING THE BEST MODELS"
   ]
  },
  {
   "cell_type": "code",
   "execution_count": null,
   "id": "fcee51ba",
   "metadata": {},
   "outputs": [],
   "source": [
    "# Base Models\n",
    "rf = RandomForestClassifier(random_state=42)\n",
    "xgb_clf = XGBClassifier(random_state=42)\n",
    "lgbm = LGBMClassifier(random_state=42)\n",
    "\n",
    "modelos_base = [rf, xgb_clf, lgbm]\n",
    "treino_de_classificadores(modelos_base, X_train_scaled, y_train_encoded);"
   ]
  },
  {
   "cell_type": "code",
   "execution_count": null,
   "id": "e4a8ef04",
   "metadata": {},
   "outputs": [],
   "source": [
    "#Best Models\n",
    "\n",
    "best_rf = RandomForestClassifier(max_depth=10.0, max_features=4, \n",
    "                                 min_samples_split=4, n_estimators=150, \n",
    "                                 random_state=42)\n",
    "\n",
    "best_xgb = XGBClassifier(colsample_bylevel=0.5,\n",
    "              colsample_bynode=0.5, colsample_bytree=0.999,\n",
    "              enable_categorical=False, learning_rate=0.1, max_delta_step=None, max_depth=6,\n",
    "              n_estimators=193, scale_pos_weight=None, subsample=0.5, verbosity=None, random_state=42)\n",
    "\n",
    "\n",
    "best_lgbm = LGBMClassifier(colsample_bytree=0.5, max_depth=9,\n",
    "                           n_estimators=141,subsample=0.999, random_state=42)\n",
    "\n",
    "modelos_best = [best_rf, best_xgb, best_lgbm]\n",
    "#pesos = compute_sample_weight(\"balanced\", y_train_encoded)\n",
    "treino_de_classificadores(modelos_best, X_train_scaled, y_train_encoded);"
   ]
  },
  {
   "cell_type": "code",
   "execution_count": null,
   "id": "04d26a19",
   "metadata": {},
   "outputs": [],
   "source": [
    "# Best models + SMOTE\n",
    "smote = SMOTE()\n",
    "scaler_smt = StandardScaler()\n",
    "encoder_smt = LabelEncoder()\n",
    "\n",
    "X_train_smt, y_train_smt = smote.fit_resample(X_train, y_train)\n",
    "X_train_smt_scaled = scaler_smt.fit_transform(X_train_smt)\n",
    "y_train_smt_encoded = encoder_smt.fit_transform(y_train_smt)\n",
    "\n",
    "best_rf_sm = RandomForestClassifier(max_depth=10.0, max_features=4, min_samples_split=4, \n",
    "                                    n_estimators=100, random_state=42)\n",
    "\n",
    "best_xgb_sm = XGBClassifier(colsample_bylevel=0.5,\n",
    "              colsample_bynode=0.5, colsample_bytree=0.999,\n",
    "              enable_categorical=False, learning_rate=0.1, max_delta_step=None, max_depth=6,\n",
    "              n_estimators=193, scale_pos_weight=None, subsample=0.5, verbosity=None,\n",
    "                           random_state=42)\n",
    "\n",
    "\n",
    "best_lgbm_sm = LGBMClassifier(colsample_bytree=0.5, max_depth=9,\n",
    "                           n_estimators=141,subsample=0.999, random_state=42)\n",
    "\n",
    "\n",
    "modelos_best_smote = [best_rf_sm, best_xgb_sm, best_lgbm_sm]\n",
    "treino_de_classificadores(modelos_best_smote, X_train_smt_scaled, y_train_smt_encoded)"
   ]
  },
  {
   "cell_type": "markdown",
   "id": "0c5acaad",
   "metadata": {},
   "source": [
    "# Saving base models\n",
    "joblib.dump(rf,'models/RF_base.joblib')\n",
    "joblib.dump(xgb_clf,'models/XGB_base.joblib')\n",
    "joblib.dump(lgbm ,'models/LGBM_base.joblib')\n",
    "\n",
    "# Saving best models\n",
    "joblib.dump(best_rf,'models/RF_opt.joblib')\n",
    "joblib.dump(best_xgb,'models/XGB_opt.joblib')\n",
    "joblib.dump(best_lgbm ,'models/LGBM_opt.joblib')\n",
    "\n",
    "# Saving best + SMOTE models\n",
    "joblib.dump(best_rf_sm,'models/RF_smote.joblib')\n",
    "joblib.dump(best_xgb_sm,'models/XGB_smote.joblib')\n",
    "joblib.dump(best_lgbm_sm ,'models/LGBM_smote.joblib')"
   ]
  },
  {
   "cell_type": "markdown",
   "id": "1c374268",
   "metadata": {},
   "source": [
    "# <center> TRAINING AND TESTING THE BEST MODELS (SMOTE)"
   ]
  },
  {
   "cell_type": "markdown",
   "id": "bcaa473f",
   "metadata": {},
   "source": [
    "# <center> MODEL EVALUATION"
   ]
  },
  {
   "cell_type": "code",
   "execution_count": null,
   "id": "909856a9",
   "metadata": {},
   "outputs": [],
   "source": [
    "X_test_scaled_smt, y_test_encoded_smt = scaler_smt.transform(X_test), encoder_smt.fit_transform(y_test)"
   ]
  },
  {
   "cell_type": "code",
   "execution_count": null,
   "id": "3750ac73",
   "metadata": {},
   "outputs": [],
   "source": [
    "#scaling test variables\n",
    "X_test_scaled = scaler.transform(X_test)\n",
    "y_test_encoded = encoder.transform(y_test)\n",
    "\n",
    "#testing models\n",
    "test_base = metricas_score(modelos_base, X_test_scaled, y_test_encoded, 'Base')\n",
    "test_best = metricas_score(modelos_best, X_test_scaled, y_test_encoded, 'Best')\n",
    "test_smote = metricas_score(modelos_best_smote, X_test_scaled_smt, y_test_encoded_smt, 'SMOTE')"
   ]
  },
  {
   "cell_type": "code",
   "execution_count": null,
   "id": "e7b36fef",
   "metadata": {},
   "outputs": [],
   "source": [
    "metrics_all_models = pd.concat([test_base, test_best, test_smote]).reset_index(drop='index')\n",
    "metrics_all_models"
   ]
  },
  {
   "cell_type": "code",
   "execution_count": null,
   "id": "c23e51c3",
   "metadata": {},
   "outputs": [],
   "source": [
    "#predictions for test \n",
    "random_forest_predictions = best_rf.predict(X_test_scaled)\n",
    "XGBboost_predictions = best_xgb.predict(X_test_scaled)\n",
    "LGBM_predictions = best_lgbm.predict(X_test_scaled)\n",
    "\n",
    "#confusion matrix\n",
    "conf_matrix1 = confusion_matrix(y_test_encoded, random_forest_predictions)\n",
    "conf_matrix2 = confusion_matrix(y_test_encoded, XGBboost_predictions)\n",
    "conf_matrix3 = confusion_matrix(y_test_encoded, LGBM_predictions)\n",
    "\n",
    "#Displaying confusion matrix for random forest test\n",
    "fig, ax = plt.subplots(1,3,figsize=(15, 10))\n",
    "ax[0].set_title(\"Random Forest\")\n",
    "ax[1].set_title(\"XGBoost\")\n",
    "ax[2].set_title(\"LGBM\")\n",
    "ax[0].grid(False)\n",
    "ax[1].grid(False)\n",
    "ax[2].grid(False)\n",
    "\n",
    "cm = ConfusionMatrixDisplay(conf_matrix1,display_labels=encoder.classes_)\n",
    "cm.plot(ax=ax[0], xticks_rotation=270,cmap='Blues', colorbar=False)\n",
    "plt.setp(ax[0],xlabel=None)\n",
    "\n",
    "# Displaying confusion matrix for XGBoost test\n",
    "cm = ConfusionMatrixDisplay(conf_matrix2,display_labels=encoder.classes_)\n",
    "cm.plot(ax=ax[1], xticks_rotation=270,cmap='YlOrBr', colorbar=False)\n",
    "plt.setp(ax[1], yticks=[], ylabel=None)\n",
    "\n",
    "# Displaying confusion matrix for ADABoost test\n",
    "cm = ConfusionMatrixDisplay(conf_matrix3,display_labels=encoder.classes_)\n",
    "cm.plot(ax=ax[2], xticks_rotation=270,cmap='YlGn', colorbar=False)\n",
    "plt.setp(ax[2], yticks=[], ylabel=None ,xlabel=None)\n",
    "\n",
    "plt.subplots_adjust(wspace=0.250, hspace=0.1)\n",
    "#plt.show()\n",
    "plt.savefig('confusion_matrix_best_models.jpeg', bbox_inches='tight')"
   ]
  },
  {
   "cell_type": "code",
   "execution_count": null,
   "id": "932578f4",
   "metadata": {},
   "outputs": [],
   "source": [
    "fig, ax = plt.subplots(1,3,figsize=(15, 5))\n",
    "ax[0].grid(False)\n",
    "ax[1].grid(False)\n",
    "ax[2].grid(False)\n",
    "\n",
    "ax[0] = sns.barplot(ax=ax[0], x=test_base['Modelo'], y=test_base['F1'], data=test_base, palette=\"Paired\")\n",
    "for container in ax[0].containers:\n",
    "    ax[0].bar_label(container)\n",
    "ax[0].tick_params(axis='x', labelrotation=45)\n",
    "ax[0].set_yticks([0.6,0.7,0.8,0.9,1])\n",
    "ax[0].tick_params(axis='y', colors='black');\n",
    "ax[0].set_ylim(0.7,1)\n",
    "\n",
    "ax[1] = sns.barplot(ax=ax[1], x=test_best['Modelo'], y=test_best['F1'], data=test_best, palette=\"Paired\")\n",
    "for container in ax[1].containers:\n",
    "    ax[1].bar_label(container)\n",
    "ax[1].tick_params(axis='x', labelrotation=45)\n",
    "ax[1].set_yticks([0.7,0.8,0.9,1])\n",
    "ax[1].tick_params(axis='y', colors='black');\n",
    "ax[1].set_ylim(0.7, 1)\n",
    "\n",
    "ax[2] = sns.barplot(ax=ax[2], x=test_smote['Modelo'], y=test_smote['F1'], data=test_smote, palette=\"Paired\")\n",
    "for container in ax[2].containers:\n",
    "    ax[2].bar_label(container)\n",
    "ax[2].tick_params(axis='x', labelrotation=45)\n",
    "ax[2].set_yticks([0.7,0.8,0.9,1])\n",
    "ax[2].tick_params(axis='y', colors='black');\n",
    "ax[2].set_ylim(0.7, 1)\n",
    "\n",
    "ax[0].set_title(\"Base Models\")\n",
    "ax[1].set_title(\"Opt. Models\")\n",
    "ax[2].set_title(\"Opt. Models + SMOTE\")\n",
    "plt.subplots_adjust(wspace=0.30, hspace=0.1)\n",
    "plt.savefig('f1_scores.jpeg', bbox_inches='tight')"
   ]
  },
  {
   "cell_type": "code",
   "execution_count": null,
   "id": "ff3b148b",
   "metadata": {},
   "outputs": [],
   "source": [
    "explainer_rf = shap.TreeExplainer(best_rf)\n",
    "shap_values_rf = explainer_xgb.shap_values(X_test_scaled)\n",
    "\n",
    "shap.summary_plot(shap_values_rf, X_train_scaled, feature_names=X_train.columns,\n",
    "                  class_names=encoder.classes_,class_inds='original',\n",
    "                  color=plt.get_cmap(\"Paired\"), show=False)\n",
    "plt.title(\"SHAP Random Forest\")\n",
    "plt.savefig('shap_rf.jpeg', bbox_inches='tight')"
   ]
  },
  {
   "cell_type": "code",
   "execution_count": null,
   "id": "5e5fb349",
   "metadata": {},
   "outputs": [],
   "source": [
    "explainer_xgb = shap.TreeExplainer(best_xgb)\n",
    "shap_values_xgb = explainer_rf.shap_values(X_test_scaled)\n",
    "\n",
    "shap.summary_plot(shap_values_xgb, X_train_scaled, feature_names=X_train.columns,\n",
    "                  class_names=encoder.classes_,class_inds='original',\n",
    "                  color=plt.get_cmap(\"Paired\"), show=False)\n",
    "plt.title(\"SHAP XGBoost\")\n",
    "plt.savefig('shap_xgb.jpeg', bbox_inches='tight')"
   ]
  },
  {
   "cell_type": "code",
   "execution_count": null,
   "id": "4de714fe",
   "metadata": {},
   "outputs": [],
   "source": [
    "explainer_lgbm = shap.TreeExplainer(best_lgbm)\n",
    "shap_values_lgbm = explainer_lgbm.shap_values(X_test_scaled)\n",
    "\n",
    "shap.summary_plot(shap_values_lgbm, X_train_scaled, feature_names=X_train.columns,\n",
    "                  class_names=encoder.classes_,class_inds='original',\n",
    "                  color=plt.get_cmap(\"Paired\"), show=False)\n",
    "plt.tight_layout()\n",
    "plt.title(\"SHAP LGBM\")\n",
    "plt.savefig('shap_lgbm.jpeg', bbox_inches='tight')"
   ]
  }
 ],
 "metadata": {
  "kernelspec": {
   "display_name": "Python 3 (ipykernel)",
   "language": "python",
   "name": "python3"
  },
  "language_info": {
   "codemirror_mode": {
    "name": "ipython",
    "version": 3
   },
   "file_extension": ".py",
   "mimetype": "text/x-python",
   "name": "python",
   "nbconvert_exporter": "python",
   "pygments_lexer": "ipython3",
   "version": "3.9.7"
  },
  "vscode": {
   "interpreter": {
    "hash": "40afe19426108136bbff523a5ee7648410555eea8397997f95af9134e9972f9a"
   }
  }
 },
 "nbformat": 4,
 "nbformat_minor": 5
}
