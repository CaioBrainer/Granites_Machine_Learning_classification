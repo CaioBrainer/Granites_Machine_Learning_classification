{
 "cells": [
  {
   "cell_type": "markdown",
   "id": "1ccfb1dd",
   "metadata": {},
   "source": [
    "# <CENTER> REDES NEURAIS ARTIFICIAIS "
   ]
  },
  {
   "cell_type": "code",
   "execution_count": 1,
   "id": "5c76063d",
   "metadata": {},
   "outputs": [],
   "source": [
    "import pandas as pd\n",
    "import numpy as np\n",
    "from sklearn.model_selection import StratifiedShuffleSplit\n",
    "from imblearn.over_sampling import SMOTE\n",
    "from sklearn.preprocessing import StandardScaler, LabelEncoder, OneHotEncoder\n",
    "from sklearn.compose import ColumnTransformer\n",
    "import tensorflow as tf\n",
    "from tensorflow import keras\n",
    "import os"
   ]
  },
  {
   "cell_type": "code",
   "execution_count": 2,
   "id": "aee45674",
   "metadata": {},
   "outputs": [],
   "source": [
    "def pesos_classe(contagem_por_classe, contagem_total):\n",
    "    \n",
    "    c = 0\n",
    "    pesos_classes = {}\n",
    "    \n",
    "    for classe in contagem_por_classe:\n",
    "        peso = contagem_total/(len(contagem_por_classe)*classe)\n",
    "        pesos_classes[c] = peso\n",
    "        c += 1\n",
    "    \n",
    "    return pesos_classes \n",
    "        "
   ]
  },
  {
   "cell_type": "code",
   "execution_count": 3,
   "id": "a9404973",
   "metadata": {},
   "outputs": [],
   "source": [
    "os.environ['CUDA_VISIBLE_DEVICES'] = '-1'"
   ]
  },
  {
   "cell_type": "code",
   "execution_count": 9,
   "id": "f863b2da",
   "metadata": {},
   "outputs": [],
   "source": [
    "df_full = pd.read_csv('granitos_db_att.txt', sep='\\t', index_col=0)"
   ]
  },
  {
   "cell_type": "code",
   "execution_count": 10,
   "id": "55ef355e",
   "metadata": {},
   "outputs": [],
   "source": [
    "df_temp = df_full.dropna(subset=['MnO', 'TiO2','FeOt', 'MgO', 'Na2O', 'CaO', 'Al2O3'])"
   ]
  },
  {
   "cell_type": "code",
   "execution_count": 11,
   "id": "99ca9589",
   "metadata": {
    "scrolled": true
   },
   "outputs": [],
   "source": [
    "preditores = ['SiO2', 'TiO2', 'Al2O3', 'FeOt', 'MnO', 'MgO', 'CaO', 'K2O', 'Na2O']\n",
    "alvos = ['Group']"
   ]
  },
  {
   "cell_type": "code",
   "execution_count": 12,
   "id": "b9126b94",
   "metadata": {},
   "outputs": [],
   "source": [
    "df_preditores = df_temp[preditores]\n",
    "df_alvo = df_temp[alvos]"
   ]
  },
  {
   "cell_type": "code",
   "execution_count": 13,
   "id": "fce39321",
   "metadata": {},
   "outputs": [
    {
     "data": {
      "text/plain": [
       "SiO2     0\n",
       "TiO2     0\n",
       "Al2O3    0\n",
       "FeOt     0\n",
       "MnO      0\n",
       "MgO      0\n",
       "CaO      0\n",
       "K2O      0\n",
       "Na2O     0\n",
       "dtype: int64"
      ]
     },
     "execution_count": 13,
     "metadata": {},
     "output_type": "execute_result"
    }
   ],
   "source": [
    "df_preditores.isna().sum()"
   ]
  },
  {
   "cell_type": "code",
   "execution_count": 14,
   "id": "a2851317",
   "metadata": {},
   "outputs": [],
   "source": [
    "split = StratifiedShuffleSplit(n_splits = 1, test_size=0.2, random_state=42)"
   ]
  },
  {
   "cell_type": "code",
   "execution_count": 15,
   "id": "4e7d769f",
   "metadata": {},
   "outputs": [],
   "source": [
    "for train_index, test_index in split.split(df_preditores, df_alvo):\n",
    "         X_train, X_test = df_preditores.iloc[train_index], df_preditores.iloc[test_index]\n",
    "         y_train, y_test = df_alvo.iloc[train_index], df_alvo.iloc[test_index]"
   ]
  },
  {
   "cell_type": "code",
   "execution_count": 16,
   "id": "26c98394",
   "metadata": {},
   "outputs": [],
   "source": [
    "escaler = StandardScaler()\n",
    "encoder = LabelEncoder()\n",
    "\n",
    "X_train = escaler.fit_transform(X_train)\n",
    "y_train = encoder.fit_transform(np.ravel(y_train))\n",
    "\n",
    "X_train = pd.DataFrame(X_train)\n",
    "y_train = pd.DataFrame(y_train)\n"
   ]
  },
  {
   "cell_type": "code",
   "execution_count": null,
   "id": "8568ba66",
   "metadata": {},
   "outputs": [],
   "source": [
    "#para ver ao título das classes\n",
    "#encoder.classes_"
   ]
  },
  {
   "cell_type": "code",
   "execution_count": null,
   "id": "c03e4693",
   "metadata": {},
   "outputs": [],
   "source": [
    "#oversample = SMOTE()\n",
    "#X_treino_smote, y_train_smote= oversample.fit_resample(X_train, y_train)"
   ]
  },
  {
   "cell_type": "markdown",
   "id": "d6fb5b5b",
   "metadata": {},
   "source": [
    "# <CENTER >CRIANDO E IMPLEMENTANDO A REDE NEURAL"
   ]
  },
  {
   "cell_type": "code",
   "execution_count": 17,
   "id": "418cdaab",
   "metadata": {},
   "outputs": [],
   "source": [
    "rede_neural = keras.models.Sequential()\n",
    "rede_neural.add(keras.layers.Flatten())\n",
    "rede_neural.add(keras.layers.Dense(100, activation=\"elu\", kernel_initializer=\"he_normal\"))\n",
    "rede_neural.add(keras.layers.Dense(100, activation=\"elu\", kernel_initializer=\"he_normal\"))\n",
    "rede_neural.add(keras.layers.Dense(100, activation=\"elu\", kernel_initializer=\"he_normal\"))\n",
    "rede_neural.add(keras.layers.Dense(100, activation=\"elu\", kernel_initializer=\"he_normal\"))\n",
    "rede_neural.add(keras.layers.Dense(100, activation=\"elu\", kernel_initializer=\"he_normal\"))\n",
    "rede_neural.add(keras.layers.Dense(100, activation=\"elu\", kernel_initializer=\"he_normal\"))\n",
    "rede_neural.add(keras.layers.Dense(100, activation=\"elu\", kernel_initializer=\"he_normal\"))\n",
    "rede_neural.add(keras.layers.Dense(100, activation=\"elu\", kernel_initializer=\"he_normal\"))\n",
    "rede_neural.add(keras.layers.Dense(100, activation=\"elu\", kernel_initializer=\"he_normal\"))\n",
    "rede_neural.add(keras.layers.Dropout(rate=0.15))\n",
    "rede_neural.add(keras.layers.Dense(100, activation=\"elu\", kernel_initializer=\"he_normal\"))\n",
    "rede_neural.add(keras.layers.Dense(6, activation=\"softmax\"))"
   ]
  },
  {
   "cell_type": "code",
   "execution_count": 18,
   "id": "3ac926fa",
   "metadata": {},
   "outputs": [],
   "source": [
    "otimizador = keras.optimizers.SGD(learning_rate = 0.01, decay=1e-4)\n",
    "\n",
    "rede_neural.compile(loss=\"sparse_categorical_crossentropy\",\n",
    "                    optimizer=otimizador,\n",
    "                    metrics=[\"accuracy\"])"
   ]
  },
  {
   "cell_type": "code",
   "execution_count": 19,
   "id": "57125121",
   "metadata": {},
   "outputs": [
    {
     "data": {
      "text/plain": [
       "([507, 218, 190, 729, 552, 352], 2548)"
      ]
     },
     "execution_count": 19,
     "metadata": {},
     "output_type": "execute_result"
    }
   ],
   "source": [
    "contagem_por_classe = y_train.value_counts().sort_index().to_list()\n",
    "contagem_total = y_train.value_counts().sum()\n",
    "contagem_por_classe, contagem_total"
   ]
  },
  {
   "cell_type": "code",
   "execution_count": 20,
   "id": "a5e075fb",
   "metadata": {},
   "outputs": [
    {
     "data": {
      "text/plain": [
       "{0: 0.8376068376068376,\n",
       " 1: 1.9480122324159022,\n",
       " 2: 2.2350877192982455,\n",
       " 3: 0.582533150434385,\n",
       " 4: 0.7693236714975845,\n",
       " 5: 1.206439393939394}"
      ]
     },
     "execution_count": 20,
     "metadata": {},
     "output_type": "execute_result"
    }
   ],
   "source": [
    "pesos = pesos_classe(contagem_por_classe, contagem_total)\n",
    "pesos"
   ]
  },
  {
   "cell_type": "code",
   "execution_count": 21,
   "id": "f52b9875",
   "metadata": {
    "scrolled": true
   },
   "outputs": [
    {
     "name": "stdout",
     "output_type": "stream",
     "text": [
      "Epoch 1/100\n",
      "80/80 [==============================] - 1s 2ms/step - loss: 0.9814 - accuracy: 0.6589\n",
      "Epoch 2/100\n",
      "80/80 [==============================] - 0s 2ms/step - loss: 0.6070 - accuracy: 0.7814\n",
      "Epoch 3/100\n",
      "80/80 [==============================] - 0s 2ms/step - loss: 0.5121 - accuracy: 0.8053\n",
      "Epoch 4/100\n",
      "80/80 [==============================] - 0s 2ms/step - loss: 0.4812 - accuracy: 0.8254\n",
      "Epoch 5/100\n",
      "80/80 [==============================] - 0s 2ms/step - loss: 0.4419 - accuracy: 0.8395\n",
      "Epoch 6/100\n",
      "80/80 [==============================] - 0s 2ms/step - loss: 0.4028 - accuracy: 0.8552\n",
      "Epoch 7/100\n",
      "80/80 [==============================] - 0s 2ms/step - loss: 0.3905 - accuracy: 0.8599\n",
      "Epoch 8/100\n",
      "80/80 [==============================] - 0s 2ms/step - loss: 0.3652 - accuracy: 0.8673\n",
      "Epoch 9/100\n",
      "80/80 [==============================] - 0s 2ms/step - loss: 0.3530 - accuracy: 0.8740\n",
      "Epoch 10/100\n",
      "80/80 [==============================] - 0s 2ms/step - loss: 0.3444 - accuracy: 0.8752\n",
      "Epoch 11/100\n",
      "80/80 [==============================] - 0s 2ms/step - loss: 0.3296 - accuracy: 0.8787\n",
      "Epoch 12/100\n",
      "80/80 [==============================] - 0s 2ms/step - loss: 0.3157 - accuracy: 0.8917\n",
      "Epoch 13/100\n",
      "80/80 [==============================] - 0s 2ms/step - loss: 0.3015 - accuracy: 0.8889\n",
      "Epoch 14/100\n",
      "80/80 [==============================] - 0s 2ms/step - loss: 0.2966 - accuracy: 0.8968\n",
      "Epoch 15/100\n",
      "80/80 [==============================] - 0s 2ms/step - loss: 0.2889 - accuracy: 0.8940\n",
      "Epoch 16/100\n",
      "80/80 [==============================] - 0s 2ms/step - loss: 0.2817 - accuracy: 0.8984\n",
      "Epoch 17/100\n",
      "80/80 [==============================] - 0s 2ms/step - loss: 0.2666 - accuracy: 0.9086\n",
      "Epoch 18/100\n",
      "80/80 [==============================] - 0s 2ms/step - loss: 0.2554 - accuracy: 0.9011\n",
      "Epoch 19/100\n",
      "80/80 [==============================] - 0s 2ms/step - loss: 0.2459 - accuracy: 0.9070\n",
      "Epoch 20/100\n",
      "80/80 [==============================] - 0s 2ms/step - loss: 0.2502 - accuracy: 0.9089\n",
      "Epoch 21/100\n",
      "80/80 [==============================] - 0s 2ms/step - loss: 0.2369 - accuracy: 0.9101\n",
      "Epoch 22/100\n",
      "80/80 [==============================] - 0s 2ms/step - loss: 0.2363 - accuracy: 0.9137\n",
      "Epoch 23/100\n",
      "80/80 [==============================] - 0s 2ms/step - loss: 0.2343 - accuracy: 0.9160\n",
      "Epoch 24/100\n",
      "80/80 [==============================] - 0s 2ms/step - loss: 0.2202 - accuracy: 0.9219\n",
      "Epoch 25/100\n",
      "80/80 [==============================] - 0s 2ms/step - loss: 0.2234 - accuracy: 0.9192\n",
      "Epoch 26/100\n",
      "80/80 [==============================] - 0s 2ms/step - loss: 0.2073 - accuracy: 0.9239\n",
      "Epoch 27/100\n",
      "80/80 [==============================] - 0s 2ms/step - loss: 0.1856 - accuracy: 0.9356\n",
      "Epoch 28/100\n",
      "80/80 [==============================] - 0s 2ms/step - loss: 0.2026 - accuracy: 0.9250\n",
      "Epoch 29/100\n",
      "80/80 [==============================] - 0s 2ms/step - loss: 0.1942 - accuracy: 0.9301\n",
      "Epoch 30/100\n",
      "80/80 [==============================] - 0s 2ms/step - loss: 0.1957 - accuracy: 0.9262\n",
      "Epoch 31/100\n",
      "80/80 [==============================] - 0s 2ms/step - loss: 0.1929 - accuracy: 0.9352\n",
      "Epoch 32/100\n",
      "80/80 [==============================] - 0s 2ms/step - loss: 0.1740 - accuracy: 0.9360\n",
      "Epoch 33/100\n",
      "80/80 [==============================] - 0s 2ms/step - loss: 0.1771 - accuracy: 0.9297\n",
      "Epoch 34/100\n",
      "80/80 [==============================] - 0s 2ms/step - loss: 0.1765 - accuracy: 0.9372\n",
      "Epoch 35/100\n",
      "80/80 [==============================] - 0s 2ms/step - loss: 0.1621 - accuracy: 0.9388\n",
      "Epoch 36/100\n",
      "80/80 [==============================] - 0s 2ms/step - loss: 0.1650 - accuracy: 0.9372\n",
      "Epoch 37/100\n",
      "80/80 [==============================] - 0s 2ms/step - loss: 0.1620 - accuracy: 0.9388\n",
      "Epoch 38/100\n",
      "80/80 [==============================] - 0s 2ms/step - loss: 0.1548 - accuracy: 0.9423\n",
      "Epoch 39/100\n",
      "80/80 [==============================] - 0s 2ms/step - loss: 0.1599 - accuracy: 0.9380\n",
      "Epoch 40/100\n",
      "80/80 [==============================] - 0s 2ms/step - loss: 0.1446 - accuracy: 0.9494\n",
      "Epoch 41/100\n",
      "80/80 [==============================] - 0s 2ms/step - loss: 0.1429 - accuracy: 0.9494\n",
      "Epoch 42/100\n",
      "80/80 [==============================] - 0s 2ms/step - loss: 0.1426 - accuracy: 0.9439\n",
      "Epoch 43/100\n",
      "80/80 [==============================] - 0s 2ms/step - loss: 0.1487 - accuracy: 0.9435\n",
      "Epoch 44/100\n",
      "80/80 [==============================] - 0s 2ms/step - loss: 0.1401 - accuracy: 0.9505\n",
      "Epoch 45/100\n",
      "80/80 [==============================] - 0s 2ms/step - loss: 0.1378 - accuracy: 0.9474\n",
      "Epoch 46/100\n",
      "80/80 [==============================] - 0s 2ms/step - loss: 0.1372 - accuracy: 0.9474\n",
      "Epoch 47/100\n",
      "80/80 [==============================] - 0s 2ms/step - loss: 0.1276 - accuracy: 0.9568\n",
      "Epoch 48/100\n",
      "80/80 [==============================] - 0s 2ms/step - loss: 0.1287 - accuracy: 0.9560\n",
      "Epoch 49/100\n",
      "80/80 [==============================] - 0s 2ms/step - loss: 0.1220 - accuracy: 0.9549\n",
      "Epoch 50/100\n",
      "80/80 [==============================] - 0s 2ms/step - loss: 0.1296 - accuracy: 0.9505\n",
      "Epoch 51/100\n",
      "80/80 [==============================] - 0s 2ms/step - loss: 0.1196 - accuracy: 0.9600\n",
      "Epoch 52/100\n",
      "80/80 [==============================] - 0s 2ms/step - loss: 0.1163 - accuracy: 0.9576\n",
      "Epoch 53/100\n",
      "80/80 [==============================] - 0s 2ms/step - loss: 0.1210 - accuracy: 0.9560\n",
      "Epoch 54/100\n",
      "80/80 [==============================] - 0s 2ms/step - loss: 0.1038 - accuracy: 0.9666\n",
      "Epoch 55/100\n",
      "80/80 [==============================] - 0s 2ms/step - loss: 0.1066 - accuracy: 0.9615\n",
      "Epoch 56/100\n",
      "80/80 [==============================] - 0s 2ms/step - loss: 0.1194 - accuracy: 0.9580\n",
      "Epoch 57/100\n",
      "80/80 [==============================] - 0s 2ms/step - loss: 0.1108 - accuracy: 0.9615\n",
      "Epoch 58/100\n",
      "80/80 [==============================] - 0s 2ms/step - loss: 0.1104 - accuracy: 0.9588\n",
      "Epoch 59/100\n",
      "80/80 [==============================] - 0s 2ms/step - loss: 0.1057 - accuracy: 0.9592\n",
      "Epoch 60/100\n",
      "80/80 [==============================] - 0s 2ms/step - loss: 0.1116 - accuracy: 0.9608\n",
      "Epoch 61/100\n",
      "80/80 [==============================] - 0s 2ms/step - loss: 0.1090 - accuracy: 0.9627\n",
      "Epoch 62/100\n",
      "80/80 [==============================] - 0s 2ms/step - loss: 0.0936 - accuracy: 0.9678\n",
      "Epoch 63/100\n",
      "80/80 [==============================] - 0s 2ms/step - loss: 0.0912 - accuracy: 0.9686\n",
      "Epoch 64/100\n",
      "80/80 [==============================] - 0s 2ms/step - loss: 0.0881 - accuracy: 0.9710\n",
      "Epoch 65/100\n",
      "80/80 [==============================] - 0s 2ms/step - loss: 0.0981 - accuracy: 0.9659\n",
      "Epoch 66/100\n",
      "80/80 [==============================] - 0s 2ms/step - loss: 0.0807 - accuracy: 0.9733\n",
      "Epoch 67/100\n",
      "80/80 [==============================] - 0s 2ms/step - loss: 0.0880 - accuracy: 0.9717\n",
      "Epoch 68/100\n",
      "80/80 [==============================] - 0s 2ms/step - loss: 0.0813 - accuracy: 0.9741\n",
      "Epoch 69/100\n",
      "80/80 [==============================] - 0s 2ms/step - loss: 0.0777 - accuracy: 0.9776\n",
      "Epoch 70/100\n",
      "80/80 [==============================] - 0s 2ms/step - loss: 0.0906 - accuracy: 0.9666\n",
      "Epoch 71/100\n",
      "80/80 [==============================] - 0s 2ms/step - loss: 0.0922 - accuracy: 0.9623\n",
      "Epoch 72/100\n",
      "80/80 [==============================] - 0s 2ms/step - loss: 0.0786 - accuracy: 0.9714\n",
      "Epoch 73/100\n",
      "80/80 [==============================] - 0s 2ms/step - loss: 0.0796 - accuracy: 0.9733\n",
      "Epoch 74/100\n",
      "80/80 [==============================] - 0s 2ms/step - loss: 0.0790 - accuracy: 0.9753\n",
      "Epoch 75/100\n",
      "80/80 [==============================] - 0s 2ms/step - loss: 0.0794 - accuracy: 0.9706\n",
      "Epoch 76/100\n",
      "80/80 [==============================] - 0s 2ms/step - loss: 0.0726 - accuracy: 0.9737\n",
      "Epoch 77/100\n",
      "80/80 [==============================] - 0s 2ms/step - loss: 0.0701 - accuracy: 0.9780\n",
      "Epoch 78/100\n",
      "80/80 [==============================] - 0s 2ms/step - loss: 0.0671 - accuracy: 0.9772\n",
      "Epoch 79/100\n",
      "80/80 [==============================] - 0s 2ms/step - loss: 0.0754 - accuracy: 0.9741\n",
      "Epoch 80/100\n",
      "80/80 [==============================] - 0s 2ms/step - loss: 0.0652 - accuracy: 0.9784\n",
      "Epoch 81/100\n",
      "80/80 [==============================] - 0s 2ms/step - loss: 0.0692 - accuracy: 0.9761\n",
      "Epoch 82/100\n",
      "80/80 [==============================] - 0s 2ms/step - loss: 0.0634 - accuracy: 0.9784\n",
      "Epoch 83/100\n"
     ]
    },
    {
     "name": "stdout",
     "output_type": "stream",
     "text": [
      "80/80 [==============================] - 0s 2ms/step - loss: 0.0649 - accuracy: 0.9812\n",
      "Epoch 84/100\n",
      "80/80 [==============================] - 0s 2ms/step - loss: 0.0641 - accuracy: 0.9761\n",
      "Epoch 85/100\n",
      "80/80 [==============================] - 0s 2ms/step - loss: 0.0650 - accuracy: 0.9784\n",
      "Epoch 86/100\n",
      "80/80 [==============================] - 0s 2ms/step - loss: 0.0593 - accuracy: 0.9812\n",
      "Epoch 87/100\n",
      "80/80 [==============================] - 0s 2ms/step - loss: 0.0645 - accuracy: 0.9792\n",
      "Epoch 88/100\n",
      "80/80 [==============================] - 0s 2ms/step - loss: 0.0513 - accuracy: 0.9835\n",
      "Epoch 89/100\n",
      "80/80 [==============================] - 0s 2ms/step - loss: 0.0648 - accuracy: 0.9776\n",
      "Epoch 90/100\n",
      "80/80 [==============================] - 0s 2ms/step - loss: 0.0577 - accuracy: 0.9812\n",
      "Epoch 91/100\n",
      "80/80 [==============================] - 0s 2ms/step - loss: 0.0533 - accuracy: 0.9831\n",
      "Epoch 92/100\n",
      "80/80 [==============================] - 0s 2ms/step - loss: 0.0532 - accuracy: 0.9800\n",
      "Epoch 93/100\n",
      "80/80 [==============================] - 0s 2ms/step - loss: 0.0529 - accuracy: 0.9843\n",
      "Epoch 94/100\n",
      "80/80 [==============================] - 0s 2ms/step - loss: 0.0505 - accuracy: 0.9835\n",
      "Epoch 95/100\n",
      "80/80 [==============================] - 0s 2ms/step - loss: 0.0502 - accuracy: 0.9831\n",
      "Epoch 96/100\n",
      "80/80 [==============================] - 0s 2ms/step - loss: 0.0526 - accuracy: 0.9808\n",
      "Epoch 97/100\n",
      "80/80 [==============================] - 0s 2ms/step - loss: 0.0501 - accuracy: 0.9812\n",
      "Epoch 98/100\n",
      "80/80 [==============================] - 0s 2ms/step - loss: 0.0565 - accuracy: 0.9819\n",
      "Epoch 99/100\n",
      "80/80 [==============================] - 0s 2ms/step - loss: 0.0533 - accuracy: 0.9823\n",
      "Epoch 100/100\n",
      "80/80 [==============================] - 0s 2ms/step - loss: 0.0607 - accuracy: 0.9812\n"
     ]
    }
   ],
   "source": [
    "history = rede_neural.fit(X_train, y_train, epochs=100)"
   ]
  },
  {
   "cell_type": "code",
   "execution_count": 22,
   "id": "2ee87860",
   "metadata": {},
   "outputs": [
    {
     "name": "stdout",
     "output_type": "stream",
     "text": [
      "Model: \"sequential\"\n",
      "_________________________________________________________________\n",
      " Layer (type)                Output Shape              Param #   \n",
      "=================================================================\n",
      " flatten (Flatten)           (None, 9)                 0         \n",
      "                                                                 \n",
      " dense (Dense)               (None, 100)               1000      \n",
      "                                                                 \n",
      " dense_1 (Dense)             (None, 100)               10100     \n",
      "                                                                 \n",
      " dense_2 (Dense)             (None, 100)               10100     \n",
      "                                                                 \n",
      " dense_3 (Dense)             (None, 100)               10100     \n",
      "                                                                 \n",
      " dense_4 (Dense)             (None, 100)               10100     \n",
      "                                                                 \n",
      " dense_5 (Dense)             (None, 100)               10100     \n",
      "                                                                 \n",
      " dense_6 (Dense)             (None, 100)               10100     \n",
      "                                                                 \n",
      " dense_7 (Dense)             (None, 100)               10100     \n",
      "                                                                 \n",
      " dense_8 (Dense)             (None, 100)               10100     \n",
      "                                                                 \n",
      " dropout (Dropout)           (None, 100)               0         \n",
      "                                                                 \n",
      " dense_9 (Dense)             (None, 100)               10100     \n",
      "                                                                 \n",
      " dense_10 (Dense)            (None, 6)                 606       \n",
      "                                                                 \n",
      "=================================================================\n",
      "Total params: 92,506\n",
      "Trainable params: 92,506\n",
      "Non-trainable params: 0\n",
      "_________________________________________________________________\n"
     ]
    }
   ],
   "source": [
    "rede_neural.summary()"
   ]
  },
  {
   "cell_type": "code",
   "execution_count": 23,
   "id": "17ec4805",
   "metadata": {},
   "outputs": [
    {
     "data": {
      "image/png": "[encoded data removed]",
      "text/plain": [
       "<Figure size 576x360 with 1 Axes>"
      ]
     },
     "metadata": {
      "needs_background": "light"
     },
     "output_type": "display_data"
    }
   ],
   "source": [
    "import matplotlib.pyplot as plt\n",
    "\n",
    "pd.DataFrame(history.history).plot(figsize=(8,5))\n",
    "plt.grid(True)\n",
    "plt.gca().set_ylim(0,1)\n",
    "plt.show()\n"
   ]
  },
  {
   "cell_type": "code",
   "execution_count": 24,
   "id": "b9686b81",
   "metadata": {},
   "outputs": [],
   "source": [
    "X_test = escaler.fit_transform(X_test)\n",
    "y_teste1 = encoder.fit_transform(np.ravel(y_test))\n",
    "encoder2 = OneHotEncoder()\n",
    "y_teste2 = encoder2.fit_transform((y_test))\n"
   ]
  },
  {
   "cell_type": "code",
   "execution_count": 25,
   "id": "98e30cc0",
   "metadata": {},
   "outputs": [
    {
     "name": "stdout",
     "output_type": "stream",
     "text": [
      "20/20 [==============================] - 0s 2ms/step - loss: 0.6466 - accuracy: 0.8777\n"
     ]
    },
    {
     "data": {
      "text/plain": [
       "[0.6466014385223389, 0.8777429461479187]"
      ]
     },
     "execution_count": 25,
     "metadata": {},
     "output_type": "execute_result"
    }
   ],
   "source": [
    "rede_neural.evaluate(X_test, y_teste1)"
   ]
  },
  {
   "cell_type": "code",
   "execution_count": 26,
   "id": "17eb3fda",
   "metadata": {},
   "outputs": [
    {
     "name": "stdout",
     "output_type": "stream",
     "text": [
      "20/20 [==============================] - 0s 2ms/step\n"
     ]
    }
   ],
   "source": [
    "y_PRED = rede_neural.predict(X_test)"
   ]
  },
  {
   "cell_type": "code",
   "execution_count": 27,
   "id": "f9019a8d",
   "metadata": {},
   "outputs": [
    {
     "name": "stdout",
     "output_type": "stream",
     "text": [
      "              precision    recall  f1-score   support\n",
      "\n",
      "           0       0.86      0.89      0.87       127\n",
      "           1       0.91      0.94      0.93        54\n",
      "           2       0.95      0.83      0.89        48\n",
      "           3       0.91      0.89      0.90       183\n",
      "           4       0.83      0.83      0.83       138\n",
      "           5       0.87      0.90      0.88        88\n",
      "\n",
      "    accuracy                           0.88       638\n",
      "   macro avg       0.89      0.88      0.88       638\n",
      "weighted avg       0.88      0.88      0.88       638\n",
      "\n"
     ]
    }
   ],
   "source": [
    "from sklearn.metrics import classification_report, precision_score, accuracy_score\n",
    "print(classification_report(y_teste2.toarray().argmax(axis=1), y_PRED.round().argmax(axis=1)))"
   ]
  },
  {
   "cell_type": "code",
   "execution_count": 28,
   "id": "f79440ae",
   "metadata": {},
   "outputs": [
    {
     "data": {
      "image/png": "[encoded data removed]",
      "text/plain": [
       "<Figure size 576x576 with 2 Axes>"
      ]
     },
     "metadata": {
      "needs_background": "light"
     },
     "output_type": "display_data"
    }
   ],
   "source": [
    "import matplotlib.pyplot as plt\n",
    "import seaborn as sns\n",
    "from sklearn.metrics import confusion_matrix\n",
    "\n",
    "conf_matrix = confusion_matrix(y_teste2.toarray().argmax(axis=1), y_PRED.round().argmax(axis=1), labels=[0,1,2,3,4,5])\n",
    "plt.figure(figsize=(8, 8))\n",
    "ax = sns.heatmap(conf_matrix, annot=True, cmap=\"YlGnBu\", fmt='d')\n",
    "ax.xaxis.set_ticklabels(encoder.classes_, rotation = 90)\n",
    "ax.yaxis.set_ticklabels(encoder.classes_, rotation = 0)\n",
    "plt.show()"
   ]
  },
  {
   "cell_type": "code",
   "execution_count": null,
   "id": "86f7ca0f",
   "metadata": {},
   "outputs": [],
   "source": []
  }
 ],
 "metadata": {
  "kernelspec": {
   "display_name": "Python 3 (ipykernel)",
   "language": "python",
   "name": "python3"
  },
  "language_info": {
   "codemirror_mode": {
    "name": "ipython",
    "version": 3
   },
   "file_extension": ".py",
   "mimetype": "text/x-python",
   "name": "python",
   "nbconvert_exporter": "python",
   "pygments_lexer": "ipython3",
   "version": "3.9.7"
  }
 },
 "nbformat": 4,
 "nbformat_minor": 5
}
