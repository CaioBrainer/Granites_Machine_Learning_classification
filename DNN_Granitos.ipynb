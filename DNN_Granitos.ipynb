{
 "cells": [
  {
   "cell_type": "markdown",
   "id": "1ccfb1dd",
   "metadata": {},
   "source": [
    "# <CENTER> REDES NEURAIS ARTIFICIAIS "
   ]
  },
  {
   "cell_type": "code",
   "execution_count": 1,
   "id": "5c76063d",
   "metadata": {},
   "outputs": [],
   "source": [
    "import pandas as pd\n",
    "import numpy as np\n",
    "from sklearn.model_selection import StratifiedShuffleSplit\n",
    "from sklearn.preprocessing import StandardScaler, LabelEncoder, OneHotEncoder\n",
    "from sklearn.metrics import classification_report, precision_score, accuracy_score\n",
    "from sklearn.compose import ColumnTransformer\n",
    "import tensorflow as tf\n",
    "from tensorflow import keras\n",
    "import os\n",
    "import matplotlib.pyplot as plt\n",
    "import seaborn as sns\n",
    "from sklearn.metrics import confusion_matrix"
   ]
  },
  {
   "cell_type": "code",
   "execution_count": 2,
   "id": "aee45674",
   "metadata": {},
   "outputs": [],
   "source": [
    "#Função para gerar os pesos das classes\n",
    "\n",
    "def pesos_classe(contagem_por_classe, contagem_total):\n",
    "    \n",
    "    c = 0\n",
    "    pesos_classes = {}\n",
    "    \n",
    "    for classe in contagem_por_classe:\n",
    "        peso = contagem_total/(len(contagem_por_classe)*classe)\n",
    "        pesos_classes[c] = peso\n",
    "        c += 1\n",
    "    \n",
    "    return pesos_classes \n",
    "        "
   ]
  },
  {
   "cell_type": "code",
   "execution_count": 3,
   "id": "b3c3b8a1",
   "metadata": {},
   "outputs": [],
   "source": [
    "#Função para plotar a matriz de confusão\n",
    "\n",
    "def plot_confusion_matrix(y_teste, y_previsão):\n",
    "    conf_matrix = confusion_matrix(y_teste, y_previsão, labels=[0,1,2,3,4,5])\n",
    "    plt.figure(figsize=(8, 8))\n",
    "    ax = sns.heatmap(conf_matrix, annot=True, cmap=\"YlGnBu\", fmt='d')\n",
    "    ax.xaxis.set_ticklabels(encoder.classes_, rotation = 90)\n",
    "    ax.yaxis.set_ticklabels(encoder.classes_, rotation = 0)\n",
    "    plt.show()"
   ]
  },
  {
   "cell_type": "code",
   "execution_count": 4,
   "id": "a9404973",
   "metadata": {},
   "outputs": [],
   "source": [
    "#para rodar o tensorflow apenas na CPU (Minha GPU tá com problemas)\n",
    "\n",
    "os.environ['CUDA_VISIBLE_DEVICES'] = '-1'"
   ]
  },
  {
   "cell_type": "code",
   "execution_count": 5,
   "id": "f863b2da",
   "metadata": {},
   "outputs": [],
   "source": [
    "#Carregando o dataset de Bonin (2020) modificado por mim\n",
    "\n",
    "df_full = pd.read_csv('dataset/granitos_db_att.csv', sep='\\t', index_col=0)"
   ]
  },
  {
   "cell_type": "code",
   "execution_count": 6,
   "id": "55ef355e",
   "metadata": {},
   "outputs": [],
   "source": [
    "df_temp = df_full.dropna(subset=['MnO', 'TiO2','FeOt', 'MgO', 'Na2O', 'CaO', 'Al2O3'])"
   ]
  },
  {
   "cell_type": "code",
   "execution_count": 7,
   "id": "99ca9589",
   "metadata": {
    "scrolled": true
   },
   "outputs": [],
   "source": [
    "#Separando variáveis alvo e variáveis preditoras\n",
    "\n",
    "preditores = ['SiO2', 'TiO2', 'Al2O3', 'FeOt', 'MnO', 'MgO', 'CaO', 'K2O', 'Na2O']\n",
    "alvos = ['Group']"
   ]
  },
  {
   "cell_type": "code",
   "execution_count": 8,
   "id": "b9126b94",
   "metadata": {},
   "outputs": [],
   "source": [
    "df_preditores = df_temp[preditores]\n",
    "df_alvo = df_temp[alvos]"
   ]
  },
  {
   "cell_type": "code",
   "execution_count": 9,
   "id": "a2851317",
   "metadata": {},
   "outputs": [],
   "source": [
    "#Separando os dados em treino e teste\n",
    "\n",
    "split = StratifiedShuffleSplit(n_splits = 1, test_size=0.2, random_state=42)\n",
    "\n",
    "for train_index, test_index in split.split(df_preditores, df_alvo):\n",
    "         X_train, X_test = df_preditores.iloc[train_index], df_preditores.iloc[test_index]\n",
    "         y_train, y_test = df_alvo.iloc[train_index], df_alvo.iloc[test_index]"
   ]
  },
  {
   "cell_type": "code",
   "execution_count": 10,
   "id": "26c98394",
   "metadata": {},
   "outputs": [],
   "source": [
    "#Escalonando as variáveis preditoras e aplicando labelencoder nas variáveis alvo\n",
    "\n",
    "escaler = StandardScaler()\n",
    "encoder = LabelEncoder()\n",
    "\n",
    "X_train = escaler.fit_transform(X_train)\n",
    "y_train = encoder.fit_transform(np.ravel(y_train))\n",
    "\n",
    "X_train = pd.DataFrame(X_train)\n",
    "y_train = pd.DataFrame(y_train)\n"
   ]
  },
  {
   "cell_type": "code",
   "execution_count": 11,
   "id": "8568ba66",
   "metadata": {},
   "outputs": [],
   "source": [
    "#para ver ao título das classes\n",
    "#encoder.classes_"
   ]
  },
  {
   "cell_type": "code",
   "execution_count": 12,
   "id": "c03e4693",
   "metadata": {},
   "outputs": [],
   "source": [
    "#oversample = SMOTE()\n",
    "#X_treino_smote, y_train_smote= oversample.fit_resample(X_train, y_train)"
   ]
  },
  {
   "cell_type": "markdown",
   "id": "d6fb5b5b",
   "metadata": {},
   "source": [
    "# <CENTER >CRIANDO E IMPLEMENTANDO A REDE NEURAL"
   ]
  },
  {
   "cell_type": "code",
   "execution_count": 13,
   "id": "418cdaab",
   "metadata": {},
   "outputs": [],
   "source": [
    "rede_neural = keras.models.Sequential()\n",
    "rede_neural.add(keras.layers.Flatten())\n",
    "rede_neural.add(keras.layers.Dense(100, activation=\"elu\", kernel_initializer=\"he_normal\"))\n",
    "rede_neural.add(keras.layers.Dense(100, activation=\"elu\", kernel_initializer=\"he_normal\"))\n",
    "rede_neural.add(keras.layers.Dense(100, activation=\"elu\", kernel_initializer=\"he_normal\"))\n",
    "rede_neural.add(keras.layers.Dense(100, activation=\"elu\", kernel_initializer=\"he_normal\"))\n",
    "rede_neural.add(keras.layers.Dense(100, activation=\"elu\", kernel_initializer=\"he_normal\"))\n",
    "rede_neural.add(keras.layers.Dense(100, activation=\"elu\", kernel_initializer=\"he_normal\"))\n",
    "rede_neural.add(keras.layers.Dense(100, activation=\"elu\", kernel_initializer=\"he_normal\"))\n",
    "rede_neural.add(keras.layers.Dense(100, activation=\"elu\", kernel_initializer=\"he_normal\"))\n",
    "rede_neural.add(keras.layers.Dense(100, activation=\"elu\", kernel_initializer=\"he_normal\"))\n",
    "rede_neural.add(keras.layers.Dropout(rate=0.15))\n",
    "rede_neural.add(keras.layers.Dense(100, activation=\"elu\", kernel_initializer=\"he_normal\"))\n",
    "rede_neural.add(keras.layers.Dense(6, activation=\"softmax\"))"
   ]
  },
  {
   "cell_type": "code",
   "execution_count": 14,
   "id": "3ac926fa",
   "metadata": {},
   "outputs": [],
   "source": [
    "otimizador = keras.optimizers.SGD(learning_rate = 0.01, decay=1e-4)\n",
    "\n",
    "rede_neural.compile(loss=\"sparse_categorical_crossentropy\",\n",
    "                    optimizer=otimizador,\n",
    "                    metrics=[\"accuracy\"])"
   ]
  },
  {
   "cell_type": "code",
   "execution_count": 15,
   "id": "57125121",
   "metadata": {},
   "outputs": [
    {
     "data": {
      "text/plain": [
       "([507, 218, 190, 729, 552, 352], 2548)"
      ]
     },
     "execution_count": 15,
     "metadata": {},
     "output_type": "execute_result"
    }
   ],
   "source": [
    "contagem_por_classe = y_train.value_counts().sort_index().to_list()\n",
    "contagem_total = y_train.value_counts().sum()\n",
    "contagem_por_classe, contagem_total"
   ]
  },
  {
   "cell_type": "code",
   "execution_count": 16,
   "id": "a5e075fb",
   "metadata": {},
   "outputs": [],
   "source": [
    "pesos = pesos_classe(contagem_por_classe, contagem_total)"
   ]
  },
  {
   "cell_type": "code",
   "execution_count": 17,
   "id": "f52b9875",
   "metadata": {
    "scrolled": true
   },
   "outputs": [],
   "source": [
    "history = rede_neural.fit(X_train, y_train, epochs=100, class_weight=pesos, verbose=0)"
   ]
  },
  {
   "cell_type": "code",
   "execution_count": 18,
   "id": "17ec4805",
   "metadata": {},
   "outputs": [
    {
     "data": {
      "image/png": "[encoded data removed]",
      "text/plain": [
       "<Figure size 576x360 with 1 Axes>"
      ]
     },
     "metadata": {
      "needs_background": "light"
     },
     "output_type": "display_data"
    }
   ],
   "source": [
    "import matplotlib.pyplot as plt\n",
    "\n",
    "pd.DataFrame(history.history).plot(figsize=(8,5))\n",
    "plt.grid(True)\n",
    "plt.gca().set_ylim(0,1)\n",
    "plt.show()\n"
   ]
  },
  {
   "cell_type": "markdown",
   "id": "5534a4a5",
   "metadata": {},
   "source": [
    "# <CENTER> AVALIANDO O MODELO"
   ]
  },
  {
   "cell_type": "code",
   "execution_count": 19,
   "id": "b9686b81",
   "metadata": {},
   "outputs": [],
   "source": [
    "#Preparando os dados de teste\n",
    "\n",
    "X_test = escaler.fit_transform(X_test)\n",
    "y_teste1 = encoder.fit_transform(np.ravel(y_test))\n",
    "encoder2 = OneHotEncoder()\n",
    "y_teste2 = encoder2.fit_transform((y_test))\n"
   ]
  },
  {
   "cell_type": "code",
   "execution_count": 20,
   "id": "98e30cc0",
   "metadata": {},
   "outputs": [
    {
     "name": "stdout",
     "output_type": "stream",
     "text": [
      "20/20 [==============================] - 0s 2ms/step - loss: 0.5955 - accuracy: 0.8824\n"
     ]
    },
    {
     "data": {
      "text/plain": [
       "[0.5954556465148926, 0.8824451565742493]"
      ]
     },
     "execution_count": 20,
     "metadata": {},
     "output_type": "execute_result"
    }
   ],
   "source": [
    "rede_neural.evaluate(X_test, y_teste1)"
   ]
  },
  {
   "cell_type": "code",
   "execution_count": 21,
   "id": "17eb3fda",
   "metadata": {},
   "outputs": [
    {
     "name": "stdout",
     "output_type": "stream",
     "text": [
      "20/20 [==============================] - 0s 2ms/step\n"
     ]
    }
   ],
   "source": [
    "y_pred = rede_neural.predict(X_test)"
   ]
  },
  {
   "cell_type": "code",
   "execution_count": 22,
   "id": "f9019a8d",
   "metadata": {},
   "outputs": [
    {
     "name": "stdout",
     "output_type": "stream",
     "text": [
      "              precision    recall  f1-score   support\n",
      "\n",
      "           0       0.86      0.91      0.88       127\n",
      "           1       0.96      0.94      0.95        54\n",
      "           2       0.85      0.92      0.88        48\n",
      "           3       0.93      0.87      0.90       183\n",
      "           4       0.84      0.83      0.83       138\n",
      "           5       0.86      0.91      0.88        88\n",
      "\n",
      "    accuracy                           0.88       638\n",
      "   macro avg       0.88      0.90      0.89       638\n",
      "weighted avg       0.88      0.88      0.88       638\n",
      "\n"
     ]
    }
   ],
   "source": [
    "#Classification report do modelo\n",
    "\n",
    "print(classification_report(y_teste2.toarray().argmax(axis=1), y_pred.round().argmax(axis=1)))"
   ]
  },
  {
   "cell_type": "code",
   "execution_count": 23,
   "id": "86f7ca0f",
   "metadata": {},
   "outputs": [
    {
     "data": {
      "image/png": "[encoded data removed]",
      "text/plain": [
       "<Figure size 576x576 with 2 Axes>"
      ]
     },
     "metadata": {
      "needs_background": "light"
     },
     "output_type": "display_data"
    }
   ],
   "source": [
    "#Plotando a matriz de confusão\n",
    "\n",
    "plot_confusion_matrix(y_teste2.toarray().argmax(axis=1), y_pred.round().argmax(axis=1))"
   ]
  },
  {
   "cell_type": "code",
   "execution_count": null,
   "id": "087847ce",
   "metadata": {},
   "outputs": [],
   "source": []
  }
 ],
 "metadata": {
  "kernelspec": {
   "display_name": "Python 3 (ipykernel)",
   "language": "python",
   "name": "python3"
  },
  "language_info": {
   "codemirror_mode": {
    "name": "ipython",
    "version": 3
   },
   "file_extension": ".py",
   "mimetype": "text/x-python",
   "name": "python",
   "nbconvert_exporter": "python",
   "pygments_lexer": "ipython3",
   "version": "3.9.7"
  }
 },
 "nbformat": 4,
 "nbformat_minor": 5
}
